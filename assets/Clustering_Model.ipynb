{
  "nbformat": 4,
  "nbformat_minor": 0,
  "metadata": {
    "colab": {
      "provenance": []
    },
    "kernelspec": {
      "name": "python3",
      "display_name": "Python 3"
    },
    "language_info": {
      "name": "python"
    }
  },
  "cells": [
    {
      "cell_type": "markdown",
      "source": [
        "1. Pick 5 cuisines and select 4 restaurants for each cuisine. Collect 200 reviews for each restaurant. (10 pts.)\n",
        "\n",
        "Mexican\n",
        "Pizza\n",
        "Seafood\n",
        "Spanish\n",
        "Indian"
      ],
      "metadata": {
        "id": "5bYRD5sKmYXa"
      }
    },
    {
      "cell_type": "code",
      "execution_count": 5,
      "metadata": {
        "id": "RP4A70Gmk6-n"
      },
      "outputs": [],
      "source": [
        "import pandas as pd"
      ]
    },
    {
      "cell_type": "code",
      "source": [
        "# I saved the data into a .parquet file since I was having some weird formatting issue with .csv when joining them\n",
        "df = pd.read_parquet('lots_o_data.parquet')"
      ],
      "metadata": {
        "id": "3qcY1ER_lOOX"
      },
      "execution_count": 6,
      "outputs": []
    },
    {
      "cell_type": "code",
      "source": [
        "df.head(20)"
      ],
      "metadata": {
        "colab": {
          "base_uri": "https://localhost:8080/",
          "height": 676
        },
        "id": "kNw--nzPlWwm",
        "outputId": "0bb4ee3d-16c9-4cce-c5e2-c517b9d7a086"
      },
      "execution_count": 7,
      "outputs": [
        {
          "output_type": "execute_result",
          "data": {
            "text/plain": [
              "     restaurant                                        review_text  cuisine\n",
              "0         aroma  ['This was yelp recommended. \\xa0We spent a we...   indian\n",
              "1         dario  ['I love this place and they never disappoint ...  mexican\n",
              "2       dockers  [\"I have had Dockers flagged on my map for yea...  seafood\n",
              "3           him  ['4.5 starts for excellent reason - it should ...   indian\n",
              "4        hooked  ['Great casual spot in montauk. I highly recom...  seafood\n",
              "5       lobster  [\"Good food reasonable prices. \\xa0Seasonal. S...  seafood\n",
              "6      malinche  ['Food was delicious! My sisters and I got tac...  mexican\n",
              "7         nizam  [\"New traditions have been started over dining...   indian\n",
              "8        noches  ['Order food to go but it tastes great! Their ...  mexican\n",
              "9         peque  ['Bomb Mexican spot in Ironbound. Very authent...  mexican\n",
              "10    pizza one  [\"The pizza was so good I didn't even take a p...    pizza\n",
              "11        rosas  [\"Rosa's seems to be the hub for pizza in Hunt...    pizza\n",
              "12         saaz  ['Amazing service to complement the amazing fo...   indian\n",
              "13      segovia  ['A family favorite spot. The food is always o...  spanish\n",
              "14       shrimp  [\"Pinky's is a great spot for some fresh seafo...  seafood\n",
              "15      spanish  [\"I've been there many time. Excellent food an...  spanish\n",
              "16         toro  [\"This place hosted my niece's baptism party o...  spanish\n",
              "17  uncle pizza  ['Had to say waddddup to Sweet Lou over hereee...    pizza\n",
              "18        villa  ['One of my favorite restaurants food is alway...  spanish\n",
              "19      village  ['I came here two nights in a row and had a gr...    pizza"
            ],
            "text/html": [
              "\n",
              "  <div id=\"df-dfaa3feb-46db-4575-b2d8-8408010061d0\">\n",
              "    <div class=\"colab-df-container\">\n",
              "      <div>\n",
              "<style scoped>\n",
              "    .dataframe tbody tr th:only-of-type {\n",
              "        vertical-align: middle;\n",
              "    }\n",
              "\n",
              "    .dataframe tbody tr th {\n",
              "        vertical-align: top;\n",
              "    }\n",
              "\n",
              "    .dataframe thead th {\n",
              "        text-align: right;\n",
              "    }\n",
              "</style>\n",
              "<table border=\"1\" class=\"dataframe\">\n",
              "  <thead>\n",
              "    <tr style=\"text-align: right;\">\n",
              "      <th></th>\n",
              "      <th>restaurant</th>\n",
              "      <th>review_text</th>\n",
              "      <th>cuisine</th>\n",
              "    </tr>\n",
              "  </thead>\n",
              "  <tbody>\n",
              "    <tr>\n",
              "      <th>0</th>\n",
              "      <td>aroma</td>\n",
              "      <td>['This was yelp recommended. \\xa0We spent a we...</td>\n",
              "      <td>indian</td>\n",
              "    </tr>\n",
              "    <tr>\n",
              "      <th>1</th>\n",
              "      <td>dario</td>\n",
              "      <td>['I love this place and they never disappoint ...</td>\n",
              "      <td>mexican</td>\n",
              "    </tr>\n",
              "    <tr>\n",
              "      <th>2</th>\n",
              "      <td>dockers</td>\n",
              "      <td>[\"I have had Dockers flagged on my map for yea...</td>\n",
              "      <td>seafood</td>\n",
              "    </tr>\n",
              "    <tr>\n",
              "      <th>3</th>\n",
              "      <td>him</td>\n",
              "      <td>['4.5 starts for excellent reason - it should ...</td>\n",
              "      <td>indian</td>\n",
              "    </tr>\n",
              "    <tr>\n",
              "      <th>4</th>\n",
              "      <td>hooked</td>\n",
              "      <td>['Great casual spot in montauk. I highly recom...</td>\n",
              "      <td>seafood</td>\n",
              "    </tr>\n",
              "    <tr>\n",
              "      <th>5</th>\n",
              "      <td>lobster</td>\n",
              "      <td>[\"Good food reasonable prices. \\xa0Seasonal. S...</td>\n",
              "      <td>seafood</td>\n",
              "    </tr>\n",
              "    <tr>\n",
              "      <th>6</th>\n",
              "      <td>malinche</td>\n",
              "      <td>['Food was delicious! My sisters and I got tac...</td>\n",
              "      <td>mexican</td>\n",
              "    </tr>\n",
              "    <tr>\n",
              "      <th>7</th>\n",
              "      <td>nizam</td>\n",
              "      <td>[\"New traditions have been started over dining...</td>\n",
              "      <td>indian</td>\n",
              "    </tr>\n",
              "    <tr>\n",
              "      <th>8</th>\n",
              "      <td>noches</td>\n",
              "      <td>['Order food to go but it tastes great! Their ...</td>\n",
              "      <td>mexican</td>\n",
              "    </tr>\n",
              "    <tr>\n",
              "      <th>9</th>\n",
              "      <td>peque</td>\n",
              "      <td>['Bomb Mexican spot in Ironbound. Very authent...</td>\n",
              "      <td>mexican</td>\n",
              "    </tr>\n",
              "    <tr>\n",
              "      <th>10</th>\n",
              "      <td>pizza one</td>\n",
              "      <td>[\"The pizza was so good I didn't even take a p...</td>\n",
              "      <td>pizza</td>\n",
              "    </tr>\n",
              "    <tr>\n",
              "      <th>11</th>\n",
              "      <td>rosas</td>\n",
              "      <td>[\"Rosa's seems to be the hub for pizza in Hunt...</td>\n",
              "      <td>pizza</td>\n",
              "    </tr>\n",
              "    <tr>\n",
              "      <th>12</th>\n",
              "      <td>saaz</td>\n",
              "      <td>['Amazing service to complement the amazing fo...</td>\n",
              "      <td>indian</td>\n",
              "    </tr>\n",
              "    <tr>\n",
              "      <th>13</th>\n",
              "      <td>segovia</td>\n",
              "      <td>['A family favorite spot. The food is always o...</td>\n",
              "      <td>spanish</td>\n",
              "    </tr>\n",
              "    <tr>\n",
              "      <th>14</th>\n",
              "      <td>shrimp</td>\n",
              "      <td>[\"Pinky's is a great spot for some fresh seafo...</td>\n",
              "      <td>seafood</td>\n",
              "    </tr>\n",
              "    <tr>\n",
              "      <th>15</th>\n",
              "      <td>spanish</td>\n",
              "      <td>[\"I've been there many time. Excellent food an...</td>\n",
              "      <td>spanish</td>\n",
              "    </tr>\n",
              "    <tr>\n",
              "      <th>16</th>\n",
              "      <td>toro</td>\n",
              "      <td>[\"This place hosted my niece's baptism party o...</td>\n",
              "      <td>spanish</td>\n",
              "    </tr>\n",
              "    <tr>\n",
              "      <th>17</th>\n",
              "      <td>uncle pizza</td>\n",
              "      <td>['Had to say waddddup to Sweet Lou over hereee...</td>\n",
              "      <td>pizza</td>\n",
              "    </tr>\n",
              "    <tr>\n",
              "      <th>18</th>\n",
              "      <td>villa</td>\n",
              "      <td>['One of my favorite restaurants food is alway...</td>\n",
              "      <td>spanish</td>\n",
              "    </tr>\n",
              "    <tr>\n",
              "      <th>19</th>\n",
              "      <td>village</td>\n",
              "      <td>['I came here two nights in a row and had a gr...</td>\n",
              "      <td>pizza</td>\n",
              "    </tr>\n",
              "  </tbody>\n",
              "</table>\n",
              "</div>\n",
              "      <button class=\"colab-df-convert\" onclick=\"convertToInteractive('df-dfaa3feb-46db-4575-b2d8-8408010061d0')\"\n",
              "              title=\"Convert this dataframe to an interactive table.\"\n",
              "              style=\"display:none;\">\n",
              "        \n",
              "  <svg xmlns=\"http://www.w3.org/2000/svg\" height=\"24px\"viewBox=\"0 0 24 24\"\n",
              "       width=\"24px\">\n",
              "    <path d=\"M0 0h24v24H0V0z\" fill=\"none\"/>\n",
              "    <path d=\"M18.56 5.44l.94 2.06.94-2.06 2.06-.94-2.06-.94-.94-2.06-.94 2.06-2.06.94zm-11 1L8.5 8.5l.94-2.06 2.06-.94-2.06-.94L8.5 2.5l-.94 2.06-2.06.94zm10 10l.94 2.06.94-2.06 2.06-.94-2.06-.94-.94-2.06-.94 2.06-2.06.94z\"/><path d=\"M17.41 7.96l-1.37-1.37c-.4-.4-.92-.59-1.43-.59-.52 0-1.04.2-1.43.59L10.3 9.45l-7.72 7.72c-.78.78-.78 2.05 0 2.83L4 21.41c.39.39.9.59 1.41.59.51 0 1.02-.2 1.41-.59l7.78-7.78 2.81-2.81c.8-.78.8-2.07 0-2.86zM5.41 20L4 18.59l7.72-7.72 1.47 1.35L5.41 20z\"/>\n",
              "  </svg>\n",
              "      </button>\n",
              "      \n",
              "  <style>\n",
              "    .colab-df-container {\n",
              "      display:flex;\n",
              "      flex-wrap:wrap;\n",
              "      gap: 12px;\n",
              "    }\n",
              "\n",
              "    .colab-df-convert {\n",
              "      background-color: #E8F0FE;\n",
              "      border: none;\n",
              "      border-radius: 50%;\n",
              "      cursor: pointer;\n",
              "      display: none;\n",
              "      fill: #1967D2;\n",
              "      height: 32px;\n",
              "      padding: 0 0 0 0;\n",
              "      width: 32px;\n",
              "    }\n",
              "\n",
              "    .colab-df-convert:hover {\n",
              "      background-color: #E2EBFA;\n",
              "      box-shadow: 0px 1px 2px rgba(60, 64, 67, 0.3), 0px 1px 3px 1px rgba(60, 64, 67, 0.15);\n",
              "      fill: #174EA6;\n",
              "    }\n",
              "\n",
              "    [theme=dark] .colab-df-convert {\n",
              "      background-color: #3B4455;\n",
              "      fill: #D2E3FC;\n",
              "    }\n",
              "\n",
              "    [theme=dark] .colab-df-convert:hover {\n",
              "      background-color: #434B5C;\n",
              "      box-shadow: 0px 1px 3px 1px rgba(0, 0, 0, 0.15);\n",
              "      filter: drop-shadow(0px 1px 2px rgba(0, 0, 0, 0.3));\n",
              "      fill: #FFFFFF;\n",
              "    }\n",
              "  </style>\n",
              "\n",
              "      <script>\n",
              "        const buttonEl =\n",
              "          document.querySelector('#df-dfaa3feb-46db-4575-b2d8-8408010061d0 button.colab-df-convert');\n",
              "        buttonEl.style.display =\n",
              "          google.colab.kernel.accessAllowed ? 'block' : 'none';\n",
              "\n",
              "        async function convertToInteractive(key) {\n",
              "          const element = document.querySelector('#df-dfaa3feb-46db-4575-b2d8-8408010061d0');\n",
              "          const dataTable =\n",
              "            await google.colab.kernel.invokeFunction('convertToInteractive',\n",
              "                                                     [key], {});\n",
              "          if (!dataTable) return;\n",
              "\n",
              "          const docLinkHtml = 'Like what you see? Visit the ' +\n",
              "            '<a target=\"_blank\" href=https://colab.research.google.com/notebooks/data_table.ipynb>data table notebook</a>'\n",
              "            + ' to learn more about interactive tables.';\n",
              "          element.innerHTML = '';\n",
              "          dataTable['output_type'] = 'display_data';\n",
              "          await google.colab.output.renderOutput(dataTable, element);\n",
              "          const docLink = document.createElement('div');\n",
              "          docLink.innerHTML = docLinkHtml;\n",
              "          element.appendChild(docLink);\n",
              "        }\n",
              "      </script>\n",
              "    </div>\n",
              "  </div>\n",
              "  "
            ]
          },
          "metadata": {},
          "execution_count": 7
        }
      ]
    },
    {
      "cell_type": "code",
      "source": [
        "rests = ['aroma','dario','dockers','him','hooked','lobster','malinche','nizam','noches','peque','pizza one','rosas','saaz','segovia','shrimp','spanish','toro','uncle pizza','villa','village']"
      ],
      "metadata": {
        "id": "rgTMB169wNaw"
      },
      "execution_count": 36,
      "outputs": []
    },
    {
      "cell_type": "code",
      "source": [
        "!pip install mpld3"
      ],
      "metadata": {
        "id": "IF3ufZsUhtUx"
      },
      "execution_count": null,
      "outputs": []
    },
    {
      "cell_type": "code",
      "source": [
        "import numpy as np\n",
        "import nltk\n",
        "import re\n",
        "import os\n",
        "import codecs\n",
        "from sklearn import feature_extraction\n",
        "import mpld3"
      ],
      "metadata": {
        "id": "cANnnOe4huSz"
      },
      "execution_count": 5,
      "outputs": []
    },
    {
      "cell_type": "markdown",
      "source": [
        "3. Pre-process text (5 pts.)"
      ],
      "metadata": {
        "id": "d5mwlIj0oPHB"
      }
    },
    {
      "cell_type": "code",
      "source": [
        "import nltk\n",
        "nltk.download('punkt')\n",
        "nltk.download('stopwords')\n",
        "stopwords = nltk.corpus.stopwords.words('english')"
      ],
      "metadata": {
        "id": "-9Aw6fqbpJkp"
      },
      "execution_count": null,
      "outputs": []
    },
    {
      "cell_type": "code",
      "source": [
        "from nltk.stem.snowball import SnowballStemmer\n",
        "stemmer = SnowballStemmer(\"english\")"
      ],
      "metadata": {
        "id": "7Wph5UlNjOT4"
      },
      "execution_count": 7,
      "outputs": []
    },
    {
      "cell_type": "code",
      "source": [
        "def tokenize_and_stem(text):\n",
        "    tokens = [word for sent in nltk.sent_tokenize(text) for word in nltk.word_tokenize(sent)]\n",
        "    filtered_tokens = []\n",
        "    for token in tokens:\n",
        "        if re.search('[a-zA-Z]', token):\n",
        "            filtered_tokens.append(token)\n",
        "    stems = [stemmer.stem(t) for t in filtered_tokens]\n",
        "    return stems\n",
        "\n",
        "def tokenize_only(text):\n",
        "    tokens = [word.lower() for sent in nltk.sent_tokenize(text) for word in nltk.word_tokenize(sent)]\n",
        "    filtered_tokens = []\n",
        "    for token in tokens:\n",
        "        if re.search('[a-zA-Z]', token):\n",
        "            filtered_tokens.append(token)\n",
        "    return filtered_tokens"
      ],
      "metadata": {
        "id": "svszGjGNjUoz"
      },
      "execution_count": 8,
      "outputs": []
    },
    {
      "cell_type": "code",
      "source": [
        "totalvocab_stemmed = []\n",
        "totalvocab_tokenized = []\n",
        "for i in df['review_text']:\n",
        "    allwords_stemmed = tokenize_and_stem(i)\n",
        "    totalvocab_stemmed.extend(allwords_stemmed)\n",
        "    \n",
        "    allwords_tokenized = tokenize_only(i)\n",
        "    totalvocab_tokenized.extend(allwords_tokenized)"
      ],
      "metadata": {
        "id": "6zVcyPtLjgok"
      },
      "execution_count": 9,
      "outputs": []
    },
    {
      "cell_type": "markdown",
      "source": [
        "4. Vectorize the corpus using TFIDF. (2 pts.)\n",
        "\n"
      ],
      "metadata": {
        "id": "jtfc1SEBoR-_"
      }
    },
    {
      "cell_type": "code",
      "source": [
        "from sklearn.feature_extraction.text import TfidfVectorizer\n",
        "\n",
        "tfidf_vectorizer = TfidfVectorizer(max_df=0.8, max_features=5000,\n",
        "                                 min_df=0.2, stop_words='english',\n",
        "                                 use_idf=True, tokenizer=tokenize_and_stem, ngram_range=(1,1))\n",
        "\n",
        "%time tfidf_matrix = tfidf_vectorizer.fit_transform(df['review_text']) #fit the vectorizer to synopses\n",
        "\n",
        "print(tfidf_matrix.shape)"
      ],
      "metadata": {
        "id": "JjUrQDaLoWWQ",
        "colab": {
          "base_uri": "https://localhost:8080/"
        },
        "outputId": "2fec0336-12c5-41e6-e081-27d3ec2e6a9d"
      },
      "execution_count": 17,
      "outputs": [
        {
          "output_type": "stream",
          "name": "stdout",
          "text": [
            "CPU times: user 22 s, sys: 76.6 ms, total: 22.1 s\n",
            "Wall time: 22.5 s\n",
            "(20, 1994)\n"
          ]
        }
      ]
    },
    {
      "cell_type": "code",
      "source": [
        "terms = tfidf_vectorizer.get_feature_names_out()\n",
        "\n",
        "print(terms)"
      ],
      "metadata": {
        "colab": {
          "base_uri": "https://localhost:8080/"
        },
        "id": "q--78iOUkdpY",
        "outputId": "3d6fe16d-0088-4b85-ff84-2c22677f80be"
      },
      "execution_count": 18,
      "outputs": [
        {
          "output_type": "stream",
          "name": "stdout",
          "text": [
            "['-the' '11pm' '1pm' ... 'ziti' 'zone' 'zucchini']\n"
          ]
        }
      ]
    },
    {
      "cell_type": "markdown",
      "source": [
        "5. Build a dendrogram reflecting the hierarchical clustering results. (3 pts.)\n",
        "\n"
      ],
      "metadata": {
        "id": "E0HLVV8GoqX4"
      }
    },
    {
      "cell_type": "code",
      "source": [
        "titles = ['indian','mexican','seafood','indian','seafood','seafood','mexican','indian','mexican','mexican','pizza','pizza',\n",
        "                   'indian','spanish','seafood','spanish','spanish','pizza','spanish','pizza']"
      ],
      "metadata": {
        "id": "2TEsjaNUl1TK"
      },
      "execution_count": 32,
      "outputs": []
    },
    {
      "cell_type": "code",
      "source": [
        "from sklearn.metrics.pairwise import cosine_similarity\n",
        "dist = 1 - cosine_similarity(tfidf_matrix)"
      ],
      "metadata": {
        "id": "HxXccjTYlbpa"
      },
      "execution_count": 28,
      "outputs": []
    },
    {
      "cell_type": "code",
      "source": [
        "import matplotlib.pyplot as plt\n",
        "from scipy.cluster.hierarchy import ward, dendrogram\n",
        "\n",
        "linkage_matrix = ward(dist) \n",
        "\n",
        "fig, ax = plt.subplots(figsize=(15, 20)) \n",
        "ax = dendrogram(linkage_matrix, orientation=\"right\", labels=rests);\n",
        "\n",
        "plt.tick_params(\\\n",
        "    axis= 'x',      \n",
        "    which='both',     \n",
        "    bottom='off',      \n",
        "    top='off',         \n",
        "    labelbottom='off')\n",
        "\n",
        "plt.tight_layout() \n",
        "\n",
        "plt.savefig('ward_clusters.png', dpi=200)"
      ],
      "metadata": {
        "id": "dx9pNtsgpJHD",
        "colab": {
          "base_uri": "https://localhost:8080/",
          "height": 1000
        },
        "outputId": "2e54578a-4374-4a3f-924e-098a44742dc0"
      },
      "execution_count": 37,
      "outputs": [
        {
          "output_type": "display_data",
          "data": {
            "text/plain": [
              "<Figure size 1080x1440 with 1 Axes>"
            ],
            "image/png": "[encoded data removed]"
          },
          "metadata": {
            "needs_background": "light"
          }
        }
      ]
    },
    {
      "cell_type": "markdown",
      "source": [
        "6. Reflect on which cuisines appear more closely related to each other. Does the clustering solution make sense? (5 pts.)\n",
        "\n"
      ],
      "metadata": {
        "id": "wFZqknHepF6Q"
      }
    },
    {
      "cell_type": "markdown",
      "source": [
        "The clustering solution definetly makes sense. 18/20 restaurants are grouped together by their correct category. The only instance where there was a 'incorrect' similarity drawn was between a mexican and spanish restarurant + vice versa. One of the mexican restaurants (NOCHE) had strong similarity with spanish restaurants and one of the spanish restaurants (TORO) had a strong similarity with the mexican restaurants. This was probably a mistake on my end for choosing such similar cuisines. Other than that swap the pizza, indian, and seafood restaurants are all correctly grouped together."
      ],
      "metadata": {
        "id": "BuLMttalI2fi"
      }
    }
  ]
}