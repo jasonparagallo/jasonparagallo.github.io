{
  "nbformat": 4,
  "nbformat_minor": 0,
  "metadata": {
    "colab": {
      "provenance": []
    },
    "kernelspec": {
      "name": "python3",
      "display_name": "Python 3"
    },
    "language_info": {
      "name": "python"
    }
  },
  "cells": [
    {
      "cell_type": "code",
      "execution_count": 1,
      "metadata": {
        "id": "zXQ_FUxTLsAt"
      },
      "outputs": [],
      "source": [
        "import pandas as pd\n",
        "import numpy as np\n",
        "import seaborn as sb\n",
        "from sklearn.metrics import confusion_matrix, classification_report"
      ]
    },
    {
      "cell_type": "code",
      "source": [
        "all_teams = pd.read_csv('all_teams.csv')"
      ],
      "metadata": {
        "id": "6H_SibPIL0NF"
      },
      "execution_count": 2,
      "outputs": []
    },
    {
      "cell_type": "code",
      "source": [
        "all_teams.shape"
      ],
      "metadata": {
        "colab": {
          "base_uri": "https://localhost:8080/"
        },
        "id": "by2GGrt-MBvJ",
        "outputId": "19c12fbe-117b-46ea-a5a8-a8b2fae50cb5"
      },
      "execution_count": 3,
      "outputs": [
        {
          "output_type": "execute_result",
          "data": {
            "text/plain": [
              "(71259, 111)"
            ]
          },
          "metadata": {},
          "execution_count": 3
        }
      ]
    },
    {
      "cell_type": "code",
      "source": [
        "all_teams.head()"
      ],
      "metadata": {
        "colab": {
          "base_uri": "https://localhost:8080/",
          "height": 386
        },
        "id": "ZWPmoHXMMKBH",
        "outputId": "ad03f27e-4f1a-465b-96d0-7353fec5482d"
      },
      "execution_count": 4,
      "outputs": [
        {
          "output_type": "execute_result",
          "data": {
            "text/plain": [
              "  team  season name      gameId playerTeam opposingTeam home_or_away  \\\n",
              "0  NYR    2008  NYR  2008020001        NYR          T.B         AWAY   \n",
              "1  NYR    2008  NYR  2008020001        NYR          T.B         AWAY   \n",
              "2  NYR    2008  NYR  2008020001        NYR          T.B         AWAY   \n",
              "3  NYR    2008  NYR  2008020001        NYR          T.B         AWAY   \n",
              "4  NYR    2008  NYR  2008020001        NYR          T.B         AWAY   \n",
              "\n",
              "   gameDate    position situation  ...  unblockedShotAttemptsAgainst  \\\n",
              "0  20081004  Team Level     other  ...                           1.0   \n",
              "1  20081004  Team Level       all  ...                          31.0   \n",
              "2  20081004  Team Level      5on5  ...                          20.0   \n",
              "3  20081004  Team Level      4on5  ...                           9.0   \n",
              "4  20081004  Team Level      5on4  ...                           1.0   \n",
              "\n",
              "   scoreAdjustedUnblockedShotAttemptsAgainst  dZoneGiveawaysAgainst  \\\n",
              "0                                      1.000                    0.0   \n",
              "1                                     30.369                    5.0   \n",
              "2                                     19.369                    3.0   \n",
              "3                                      9.000                    1.0   \n",
              "4                                      1.000                    1.0   \n",
              "\n",
              "   xGoalsFromxReboundsOfShotsAgainst  xGoalsFromActualReboundsOfShotsAgainst  \\\n",
              "0                              0.017                                   0.000   \n",
              "1                              0.396                                   0.168   \n",
              "2                              0.237                                   0.168   \n",
              "3                              0.124                                   0.000   \n",
              "4                              0.019                                   0.000   \n",
              "\n",
              "   reboundxGoalsAgainst  totalShotCreditAgainst  \\\n",
              "0                 0.000                   0.037   \n",
              "1                 0.168                   2.917   \n",
              "2                 0.168                   1.862   \n",
              "3                 0.000                   0.795   \n",
              "4                 0.000                   0.224   \n",
              "\n",
              "   scoreAdjustedTotalShotCreditAgainst  \\\n",
              "0                                0.037   \n",
              "1                                2.833   \n",
              "2                                1.777   \n",
              "3                                0.795   \n",
              "4                                0.224   \n",
              "\n",
              "   scoreFlurryAdjustedTotalShotCreditAgainst  playoffGame  \n",
              "0                                      0.037          0.0  \n",
              "1                                      2.714          0.0  \n",
              "2                                      1.665          0.0  \n",
              "3                                      0.789          0.0  \n",
              "4                                      0.224          0.0  \n",
              "\n",
              "[5 rows x 111 columns]"
            ],
            "text/html": [
              "\n",
              "  <div id=\"df-c4c9d7ea-a27b-4bb6-ac4b-7f33f0021eef\">\n",
              "    <div class=\"colab-df-container\">\n",
              "      <div>\n",
              "<style scoped>\n",
              "    .dataframe tbody tr th:only-of-type {\n",
              "        vertical-align: middle;\n",
              "    }\n",
              "\n",
              "    .dataframe tbody tr th {\n",
              "        vertical-align: top;\n",
              "    }\n",
              "\n",
              "    .dataframe thead th {\n",
              "        text-align: right;\n",
              "    }\n",
              "</style>\n",
              "<table border=\"1\" class=\"dataframe\">\n",
              "  <thead>\n",
              "    <tr style=\"text-align: right;\">\n",
              "      <th></th>\n",
              "      <th>team</th>\n",
              "      <th>season</th>\n",
              "      <th>name</th>\n",
              "      <th>gameId</th>\n",
              "      <th>playerTeam</th>\n",
              "      <th>opposingTeam</th>\n",
              "      <th>home_or_away</th>\n",
              "      <th>gameDate</th>\n",
              "      <th>position</th>\n",
              "      <th>situation</th>\n",
              "      <th>...</th>\n",
              "      <th>unblockedShotAttemptsAgainst</th>\n",
              "      <th>scoreAdjustedUnblockedShotAttemptsAgainst</th>\n",
              "      <th>dZoneGiveawaysAgainst</th>\n",
              "      <th>xGoalsFromxReboundsOfShotsAgainst</th>\n",
              "      <th>xGoalsFromActualReboundsOfShotsAgainst</th>\n",
              "      <th>reboundxGoalsAgainst</th>\n",
              "      <th>totalShotCreditAgainst</th>\n",
              "      <th>scoreAdjustedTotalShotCreditAgainst</th>\n",
              "      <th>scoreFlurryAdjustedTotalShotCreditAgainst</th>\n",
              "      <th>playoffGame</th>\n",
              "    </tr>\n",
              "  </thead>\n",
              "  <tbody>\n",
              "    <tr>\n",
              "      <th>0</th>\n",
              "      <td>NYR</td>\n",
              "      <td>2008</td>\n",
              "      <td>NYR</td>\n",
              "      <td>2008020001</td>\n",
              "      <td>NYR</td>\n",
              "      <td>T.B</td>\n",
              "      <td>AWAY</td>\n",
              "      <td>20081004</td>\n",
              "      <td>Team Level</td>\n",
              "      <td>other</td>\n",
              "      <td>...</td>\n",
              "      <td>1.0</td>\n",
              "      <td>1.000</td>\n",
              "      <td>0.0</td>\n",
              "      <td>0.017</td>\n",
              "      <td>0.000</td>\n",
              "      <td>0.000</td>\n",
              "      <td>0.037</td>\n",
              "      <td>0.037</td>\n",
              "      <td>0.037</td>\n",
              "      <td>0.0</td>\n",
              "    </tr>\n",
              "    <tr>\n",
              "      <th>1</th>\n",
              "      <td>NYR</td>\n",
              "      <td>2008</td>\n",
              "      <td>NYR</td>\n",
              "      <td>2008020001</td>\n",
              "      <td>NYR</td>\n",
              "      <td>T.B</td>\n",
              "      <td>AWAY</td>\n",
              "      <td>20081004</td>\n",
              "      <td>Team Level</td>\n",
              "      <td>all</td>\n",
              "      <td>...</td>\n",
              "      <td>31.0</td>\n",
              "      <td>30.369</td>\n",
              "      <td>5.0</td>\n",
              "      <td>0.396</td>\n",
              "      <td>0.168</td>\n",
              "      <td>0.168</td>\n",
              "      <td>2.917</td>\n",
              "      <td>2.833</td>\n",
              "      <td>2.714</td>\n",
              "      <td>0.0</td>\n",
              "    </tr>\n",
              "    <tr>\n",
              "      <th>2</th>\n",
              "      <td>NYR</td>\n",
              "      <td>2008</td>\n",
              "      <td>NYR</td>\n",
              "      <td>2008020001</td>\n",
              "      <td>NYR</td>\n",
              "      <td>T.B</td>\n",
              "      <td>AWAY</td>\n",
              "      <td>20081004</td>\n",
              "      <td>Team Level</td>\n",
              "      <td>5on5</td>\n",
              "      <td>...</td>\n",
              "      <td>20.0</td>\n",
              "      <td>19.369</td>\n",
              "      <td>3.0</td>\n",
              "      <td>0.237</td>\n",
              "      <td>0.168</td>\n",
              "      <td>0.168</td>\n",
              "      <td>1.862</td>\n",
              "      <td>1.777</td>\n",
              "      <td>1.665</td>\n",
              "      <td>0.0</td>\n",
              "    </tr>\n",
              "    <tr>\n",
              "      <th>3</th>\n",
              "      <td>NYR</td>\n",
              "      <td>2008</td>\n",
              "      <td>NYR</td>\n",
              "      <td>2008020001</td>\n",
              "      <td>NYR</td>\n",
              "      <td>T.B</td>\n",
              "      <td>AWAY</td>\n",
              "      <td>20081004</td>\n",
              "      <td>Team Level</td>\n",
              "      <td>4on5</td>\n",
              "      <td>...</td>\n",
              "      <td>9.0</td>\n",
              "      <td>9.000</td>\n",
              "      <td>1.0</td>\n",
              "      <td>0.124</td>\n",
              "      <td>0.000</td>\n",
              "      <td>0.000</td>\n",
              "      <td>0.795</td>\n",
              "      <td>0.795</td>\n",
              "      <td>0.789</td>\n",
              "      <td>0.0</td>\n",
              "    </tr>\n",
              "    <tr>\n",
              "      <th>4</th>\n",
              "      <td>NYR</td>\n",
              "      <td>2008</td>\n",
              "      <td>NYR</td>\n",
              "      <td>2008020001</td>\n",
              "      <td>NYR</td>\n",
              "      <td>T.B</td>\n",
              "      <td>AWAY</td>\n",
              "      <td>20081004</td>\n",
              "      <td>Team Level</td>\n",
              "      <td>5on4</td>\n",
              "      <td>...</td>\n",
              "      <td>1.0</td>\n",
              "      <td>1.000</td>\n",
              "      <td>1.0</td>\n",
              "      <td>0.019</td>\n",
              "      <td>0.000</td>\n",
              "      <td>0.000</td>\n",
              "      <td>0.224</td>\n",
              "      <td>0.224</td>\n",
              "      <td>0.224</td>\n",
              "      <td>0.0</td>\n",
              "    </tr>\n",
              "  </tbody>\n",
              "</table>\n",
              "<p>5 rows × 111 columns</p>\n",
              "</div>\n",
              "      <button class=\"colab-df-convert\" onclick=\"convertToInteractive('df-c4c9d7ea-a27b-4bb6-ac4b-7f33f0021eef')\"\n",
              "              title=\"Convert this dataframe to an interactive table.\"\n",
              "              style=\"display:none;\">\n",
              "        \n",
              "  <svg xmlns=\"http://www.w3.org/2000/svg\" height=\"24px\"viewBox=\"0 0 24 24\"\n",
              "       width=\"24px\">\n",
              "    <path d=\"M0 0h24v24H0V0z\" fill=\"none\"/>\n",
              "    <path d=\"M18.56 5.44l.94 2.06.94-2.06 2.06-.94-2.06-.94-.94-2.06-.94 2.06-2.06.94zm-11 1L8.5 8.5l.94-2.06 2.06-.94-2.06-.94L8.5 2.5l-.94 2.06-2.06.94zm10 10l.94 2.06.94-2.06 2.06-.94-2.06-.94-.94-2.06-.94 2.06-2.06.94z\"/><path d=\"M17.41 7.96l-1.37-1.37c-.4-.4-.92-.59-1.43-.59-.52 0-1.04.2-1.43.59L10.3 9.45l-7.72 7.72c-.78.78-.78 2.05 0 2.83L4 21.41c.39.39.9.59 1.41.59.51 0 1.02-.2 1.41-.59l7.78-7.78 2.81-2.81c.8-.78.8-2.07 0-2.86zM5.41 20L4 18.59l7.72-7.72 1.47 1.35L5.41 20z\"/>\n",
              "  </svg>\n",
              "      </button>\n",
              "      \n",
              "  <style>\n",
              "    .colab-df-container {\n",
              "      display:flex;\n",
              "      flex-wrap:wrap;\n",
              "      gap: 12px;\n",
              "    }\n",
              "\n",
              "    .colab-df-convert {\n",
              "      background-color: #E8F0FE;\n",
              "      border: none;\n",
              "      border-radius: 50%;\n",
              "      cursor: pointer;\n",
              "      display: none;\n",
              "      fill: #1967D2;\n",
              "      height: 32px;\n",
              "      padding: 0 0 0 0;\n",
              "      width: 32px;\n",
              "    }\n",
              "\n",
              "    .colab-df-convert:hover {\n",
              "      background-color: #E2EBFA;\n",
              "      box-shadow: 0px 1px 2px rgba(60, 64, 67, 0.3), 0px 1px 3px 1px rgba(60, 64, 67, 0.15);\n",
              "      fill: #174EA6;\n",
              "    }\n",
              "\n",
              "    [theme=dark] .colab-df-convert {\n",
              "      background-color: #3B4455;\n",
              "      fill: #D2E3FC;\n",
              "    }\n",
              "\n",
              "    [theme=dark] .colab-df-convert:hover {\n",
              "      background-color: #434B5C;\n",
              "      box-shadow: 0px 1px 3px 1px rgba(0, 0, 0, 0.15);\n",
              "      filter: drop-shadow(0px 1px 2px rgba(0, 0, 0, 0.3));\n",
              "      fill: #FFFFFF;\n",
              "    }\n",
              "  </style>\n",
              "\n",
              "      <script>\n",
              "        const buttonEl =\n",
              "          document.querySelector('#df-c4c9d7ea-a27b-4bb6-ac4b-7f33f0021eef button.colab-df-convert');\n",
              "        buttonEl.style.display =\n",
              "          google.colab.kernel.accessAllowed ? 'block' : 'none';\n",
              "\n",
              "        async function convertToInteractive(key) {\n",
              "          const element = document.querySelector('#df-c4c9d7ea-a27b-4bb6-ac4b-7f33f0021eef');\n",
              "          const dataTable =\n",
              "            await google.colab.kernel.invokeFunction('convertToInteractive',\n",
              "                                                     [key], {});\n",
              "          if (!dataTable) return;\n",
              "\n",
              "          const docLinkHtml = 'Like what you see? Visit the ' +\n",
              "            '<a target=\"_blank\" href=https://colab.research.google.com/notebooks/data_table.ipynb>data table notebook</a>'\n",
              "            + ' to learn more about interactive tables.';\n",
              "          element.innerHTML = '';\n",
              "          dataTable['output_type'] = 'display_data';\n",
              "          await google.colab.output.renderOutput(dataTable, element);\n",
              "          const docLink = document.createElement('div');\n",
              "          docLink.innerHTML = docLinkHtml;\n",
              "          element.appendChild(docLink);\n",
              "        }\n",
              "      </script>\n",
              "    </div>\n",
              "  </div>\n",
              "  "
            ]
          },
          "metadata": {},
          "execution_count": 4
        }
      ]
    },
    {
      "cell_type": "code",
      "source": [
        "# Data does not include our target output variable so we must add it\n",
        "# Additionally we must find games that went to a shootut (ties) and remove them\n",
        "# Removing playoff games as well \n",
        "all_teams['shootout'] = np.where(all_teams['goalsFor'] == all_teams['goalsAgainst'],1,0)\n",
        "all_teams['win'] = np.where(all_teams['goalsFor'] > all_teams['goalsAgainst'],1,0)\n",
        "noshootout = all_teams[all_teams['shootout']!= 1]\n",
        "noplayoff = noshootout[noshootout['playoffGame']!= 1]"
      ],
      "metadata": {
        "id": "6DoTtRvmMqCx"
      },
      "execution_count": 5,
      "outputs": []
    },
    {
      "cell_type": "code",
      "source": [
        "# Data includes situational levels so we must remove everything but 'all' so our output variable is consistent in the same game\n",
        "df = noplayoff[noplayoff['situation']== 'all']"
      ],
      "metadata": {
        "id": "bC1vb19qN8wl"
      },
      "execution_count": 6,
      "outputs": []
    },
    {
      "cell_type": "code",
      "source": [
        "# Target variable should be perfectly balanced\n",
        "df.win.hist()"
      ],
      "metadata": {
        "colab": {
          "base_uri": "https://localhost:8080/",
          "height": 282
        },
        "id": "XPg1ldNvQEA5",
        "outputId": "280cebcf-3917-47fe-d107-acaeddcb61b9"
      },
      "execution_count": 7,
      "outputs": [
        {
          "output_type": "execute_result",
          "data": {
            "text/plain": [
              "<matplotlib.axes._subplots.AxesSubplot at 0x7efdcbe0cd00>"
            ]
          },
          "metadata": {},
          "execution_count": 7
        },
        {
          "output_type": "display_data",
          "data": {
            "text/plain": [
              "<Figure size 432x288 with 1 Axes>"
            ],
            "image/png": "[encoded data removed]"
          },
          "metadata": {
            "needs_background": "light"
          }
        }
      ]
    },
    {
      "cell_type": "code",
      "source": [
        "sb.histplot(data = df, x= 'win')"
      ],
      "metadata": {
        "colab": {
          "base_uri": "https://localhost:8080/",
          "height": 296
        },
        "id": "dNMh3KSSptnw",
        "outputId": "ed9b9830-cfc3-4cd9-ce2f-952c5cfa8a91"
      },
      "execution_count": 8,
      "outputs": [
        {
          "output_type": "execute_result",
          "data": {
            "text/plain": [
              "<matplotlib.axes._subplots.AxesSubplot at 0x7efdcbcf6fd0>"
            ]
          },
          "metadata": {},
          "execution_count": 8
        },
        {
          "output_type": "display_data",
          "data": {
            "text/plain": [
              "<Figure size 432x288 with 1 Axes>"
            ],
            "image/png": "[encoded data removed]"
          },
          "metadata": {
            "needs_background": "light"
          }
        }
      ]
    },
    {
      "cell_type": "code",
      "source": [
        "# Removing unnesesary columns \n",
        "df.drop(['playoffGame','shootout','gameDate','team','name','playerTeam','opposingTeam','position','situation',\n",
        "         'goalsFor','goalsAgainst'],axis = 1, inplace = True)"
      ],
      "metadata": {
        "colab": {
          "base_uri": "https://localhost:8080/"
        },
        "id": "rKVPLQrIPPuV",
        "outputId": "2421f5f5-4151-453a-82b4-342355933d6c"
      },
      "execution_count": 9,
      "outputs": [
        {
          "output_type": "stream",
          "name": "stderr",
          "text": [
            "/usr/local/lib/python3.8/dist-packages/pandas/core/frame.py:4906: SettingWithCopyWarning: \n",
            "A value is trying to be set on a copy of a slice from a DataFrame\n",
            "\n",
            "See the caveats in the documentation: https://pandas.pydata.org/pandas-docs/stable/user_guide/indexing.html#returning-a-view-versus-a-copy\n",
            "  return super().drop(\n"
          ]
        }
      ]
    },
    {
      "cell_type": "code",
      "source": [
        "# Removing duplicate games\n",
        "df.drop_duplicates(subset=['gameId'],inplace = True)"
      ],
      "metadata": {
        "colab": {
          "base_uri": "https://localhost:8080/"
        },
        "id": "TWN2EICtvjQb",
        "outputId": "97b8697b-70f1-49ff-d833-2866e5ae40e6"
      },
      "execution_count": 10,
      "outputs": [
        {
          "output_type": "stream",
          "name": "stderr",
          "text": [
            "/usr/local/lib/python3.8/dist-packages/pandas/util/_decorators.py:311: SettingWithCopyWarning: \n",
            "A value is trying to be set on a copy of a slice from a DataFrame\n",
            "\n",
            "See the caveats in the documentation: https://pandas.pydata.org/pandas-docs/stable/user_guide/indexing.html#returning-a-view-versus-a-copy\n",
            "  return func(*args, **kwargs)\n"
          ]
        }
      ]
    },
    {
      "cell_type": "code",
      "source": [
        "# Saving this for later in project when adding both the home and away team stats on one row as well as 10 game running averages\n",
        "df.to_csv('prepped_data.csv')"
      ],
      "metadata": {
        "id": "4cEZk9BSSvxb"
      },
      "execution_count": null,
      "outputs": []
    },
    {
      "cell_type": "code",
      "source": [
        "df.gameId.sort_values(ascending=False)"
      ],
      "metadata": {
        "colab": {
          "base_uri": "https://localhost:8080/"
        },
        "id": "WxyuGSj_vzoe",
        "outputId": "ba6fa3ef-40a9-4548-9add-b39e4e9eb3d7"
      },
      "execution_count": 11,
      "outputs": [
        {
          "output_type": "execute_result",
          "data": {
            "text/plain": [
              "6326     2021021312\n",
              "22126    2021021309\n",
              "49986    2021021308\n",
              "33506    2021021307\n",
              "63586    2021021306\n",
              "            ...    \n",
              "63921    2008020005\n",
              "6336     2008020004\n",
              "6        2008020003\n",
              "6331     2008020002\n",
              "1        2008020001\n",
              "Name: gameId, Length: 9584, dtype: int64"
            ]
          },
          "metadata": {},
          "execution_count": 11
        }
      ]
    },
    {
      "cell_type": "code",
      "source": [
        "from sklearn.model_selection import train_test_split\n",
        "from sklearn.linear_model import LogisticRegression\n",
        "from sklearn.metrics import log_loss"
      ],
      "metadata": {
        "id": "bvnCqu-1YZSc"
      },
      "execution_count": 12,
      "outputs": []
    },
    {
      "cell_type": "code",
      "source": [
        "X1 = pd.get_dummies(df)"
      ],
      "metadata": {
        "id": "KNJIrxq-eCQr"
      },
      "execution_count": 13,
      "outputs": []
    },
    {
      "cell_type": "code",
      "source": [
        "X = X1.drop('win',axis = 1)\n",
        "y = X1['win']"
      ],
      "metadata": {
        "id": "RkK1AWOTeWr6"
      },
      "execution_count": 14,
      "outputs": []
    },
    {
      "cell_type": "code",
      "source": [
        "X_train, X_test, y_train, y_test = train_test_split(X, y, test_size=0.3, random_state=1)"
      ],
      "metadata": {
        "id": "JmDqy7J7eoCA"
      },
      "execution_count": 15,
      "outputs": []
    },
    {
      "cell_type": "code",
      "source": [
        "model = LogisticRegression(solver='liblinear')\n",
        "model.fit(X_train,y_train)"
      ],
      "metadata": {
        "colab": {
          "base_uri": "https://localhost:8080/"
        },
        "id": "tX0KGRatergB",
        "outputId": "6361a04f-7b1f-480b-fd81-b8310bfd59eb"
      },
      "execution_count": 16,
      "outputs": [
        {
          "output_type": "execute_result",
          "data": {
            "text/plain": [
              "LogisticRegression(solver='liblinear')"
            ]
          },
          "metadata": {},
          "execution_count": 16
        }
      ]
    },
    {
      "cell_type": "code",
      "source": [
        "ypred = model.predict(X_test)\n",
        "yproba = model.predict_proba(X_test)"
      ],
      "metadata": {
        "id": "_F_jkAGoeu5y"
      },
      "execution_count": 17,
      "outputs": []
    },
    {
      "cell_type": "code",
      "source": [
        "print(confusion_matrix(y_test,ypred))\n",
        "log_loss(y_test,yproba)"
      ],
      "metadata": {
        "colab": {
          "base_uri": "https://localhost:8080/"
        },
        "id": "LYABw2CEfDjd",
        "outputId": "547959fc-c2a7-41ee-d454-e4ce556a39c6"
      },
      "execution_count": 18,
      "outputs": [
        {
          "output_type": "stream",
          "name": "stdout",
          "text": [
            "[[   0 1436]\n",
            " [   0 1440]]\n"
          ]
        },
        {
          "output_type": "execute_result",
          "data": {
            "text/plain": [
              "0.6932374216416595"
            ]
          },
          "metadata": {},
          "execution_count": 18
        }
      ]
    },
    {
      "cell_type": "code",
      "source": [
        "# Model was overfitting. Checking feature importance\n",
        "corel = X1.corr()['win'].sort_values(ascending=False)\n",
        "corel.head(20)"
      ],
      "metadata": {
        "colab": {
          "base_uri": "https://localhost:8080/"
        },
        "id": "G4D0s8DmeP2m",
        "outputId": "4eb786bd-6ae7-49e1-d3fd-bdd7d174f137"
      },
      "execution_count": 19,
      "outputs": [
        {
          "output_type": "execute_result",
          "data": {
            "text/plain": [
              "win                                      1.000000\n",
              "mediumDangerGoalsFor                     0.401414\n",
              "highDangerGoalsFor                       0.383745\n",
              "xGoalsPercentage                         0.372695\n",
              "lowDangerGoalsFor                        0.341771\n",
              "flurryScoreVenueAdjustedxGoalsFor        0.329503\n",
              "scoreFlurryAdjustedTotalShotCreditFor    0.315980\n",
              "scoreVenueAdjustedxGoalsFor              0.306401\n",
              "scoreAdjustedTotalShotCreditFor          0.299903\n",
              "flurryAdjustedxGoalsFor                  0.284535\n",
              "highDangerxGoalsFor                      0.264286\n",
              "xGoalsFor                                0.263235\n",
              "totalShotCreditFor                       0.251708\n",
              "reboundGoalsFor                          0.226103\n",
              "highDangerShotsFor                       0.224666\n",
              "blockedShotAttemptsAgainst               0.205228\n",
              "savedUnblockedShotAttemptsAgainst        0.171477\n",
              "playContinuedInZoneAgainst               0.165873\n",
              "lowDangerShotsAgainst                    0.165624\n",
              "savedShotsOnGoalAgainst                  0.158026\n",
              "Name: win, dtype: float64"
            ]
          },
          "metadata": {},
          "execution_count": 19
        }
      ]
    },
    {
      "cell_type": "code",
      "source": [
        "# Selecting top 10 features by coefficient and using them to create a new logistic regression model\n",
        "X_train.columns"
      ],
      "metadata": {
        "colab": {
          "base_uri": "https://localhost:8080/"
        },
        "id": "NvvR9PPIqhDs",
        "outputId": "fee6f01c-114e-4222-f6f9-1b0c0f0ca3c1"
      },
      "execution_count": 20,
      "outputs": [
        {
          "output_type": "execute_result",
          "data": {
            "text/plain": [
              "Index(['season', 'gameId', 'xGoalsPercentage', 'corsiPercentage',\n",
              "       'fenwickPercentage', 'iceTime', 'xOnGoalFor', 'xGoalsFor',\n",
              "       'xReboundsFor', 'xFreezeFor',\n",
              "       ...\n",
              "       'scoreAdjustedUnblockedShotAttemptsAgainst', 'dZoneGiveawaysAgainst',\n",
              "       'xGoalsFromxReboundsOfShotsAgainst',\n",
              "       'xGoalsFromActualReboundsOfShotsAgainst', 'reboundxGoalsAgainst',\n",
              "       'totalShotCreditAgainst', 'scoreAdjustedTotalShotCreditAgainst',\n",
              "       'scoreFlurryAdjustedTotalShotCreditAgainst', 'home_or_away_AWAY',\n",
              "       'home_or_away_HOME'],\n",
              "      dtype='object', length=102)"
            ]
          },
          "metadata": {},
          "execution_count": 20
        }
      ]
    },
    {
      "cell_type": "code",
      "source": [
        "XX = X1[['xGoalsPercentage','flurryScoreVenueAdjustedxGoalsFor','scoreFlurryAdjustedTotalShotCreditFor','scoreVenueAdjustedxGoalsFor'\n",
        ",'scoreAdjustedTotalShotCreditFor','flurryAdjustedxGoalsFor','highDangerxGoalsFor','xGoalsFor','reboundGoalsFor','highDangerShotsFor','savedUnblockedShotAttemptsAgainst'\n",
        ",'savedShotsOnGoalAgainst']]"
      ],
      "metadata": {
        "id": "P_eQVS7e3pt-"
      },
      "execution_count": 21,
      "outputs": []
    },
    {
      "cell_type": "code",
      "source": [
        "XX.shape"
      ],
      "metadata": {
        "colab": {
          "base_uri": "https://localhost:8080/"
        },
        "id": "x4v65qBXkUxC",
        "outputId": "1f30ea6e-a1fb-4f75-a102-fb6a18fec24a"
      },
      "execution_count": 22,
      "outputs": [
        {
          "output_type": "execute_result",
          "data": {
            "text/plain": [
              "(9584, 12)"
            ]
          },
          "metadata": {},
          "execution_count": 22
        }
      ]
    },
    {
      "cell_type": "code",
      "source": [
        "XX_train, XX_test, y_train, y_test = train_test_split(XX, y, test_size=0.3, random_state=1)"
      ],
      "metadata": {
        "id": "C9VjwgJo4NmR"
      },
      "execution_count": 23,
      "outputs": []
    },
    {
      "cell_type": "code",
      "source": [
        "model_opt = LogisticRegression(solver='liblinear')\n",
        "model_opt.fit(XX_train,y_train)"
      ],
      "metadata": {
        "colab": {
          "base_uri": "https://localhost:8080/"
        },
        "id": "89cnec6d472Y",
        "outputId": "390737d4-5c90-448b-a6aa-cf886b3a2962"
      },
      "execution_count": 24,
      "outputs": [
        {
          "output_type": "execute_result",
          "data": {
            "text/plain": [
              "LogisticRegression(solver='liblinear')"
            ]
          },
          "metadata": {},
          "execution_count": 24
        }
      ]
    },
    {
      "cell_type": "code",
      "source": [
        "y_pred = model_opt.predict(XX_test)\n",
        "y_proba = model_opt.predict_proba(XX_test)"
      ],
      "metadata": {
        "id": "w6bNzlgO5Gjq"
      },
      "execution_count": 25,
      "outputs": []
    },
    {
      "cell_type": "code",
      "source": [
        "log_loss(y_test,y_proba)"
      ],
      "metadata": {
        "colab": {
          "base_uri": "https://localhost:8080/"
        },
        "id": "I_pVyfdD5V8p",
        "outputId": "4df88e2d-3a56-4c32-9224-40c3d4e7c9bc"
      },
      "execution_count": 26,
      "outputs": [
        {
          "output_type": "execute_result",
          "data": {
            "text/plain": [
              "0.4582134126018098"
            ]
          },
          "metadata": {},
          "execution_count": 26
        }
      ]
    },
    {
      "cell_type": "code",
      "source": [
        "from sklearn.metrics import confusion_matrix, classification_report\n",
        "print(classification_report(y_test,y_pred))"
      ],
      "metadata": {
        "colab": {
          "base_uri": "https://localhost:8080/"
        },
        "id": "CMfQKO-n5kSA",
        "outputId": "41b9c638-6d32-47d7-c6fc-d84a151f332e"
      },
      "execution_count": 27,
      "outputs": [
        {
          "output_type": "stream",
          "name": "stdout",
          "text": [
            "              precision    recall  f1-score   support\n",
            "\n",
            "           0       0.79      0.78      0.79      1436\n",
            "           1       0.78      0.80      0.79      1440\n",
            "\n",
            "    accuracy                           0.79      2876\n",
            "   macro avg       0.79      0.79      0.79      2876\n",
            "weighted avg       0.79      0.79      0.79      2876\n",
            "\n"
          ]
        }
      ]
    },
    {
      "cell_type": "code",
      "source": [
        "confusion_matrix(y_test,y_pred)"
      ],
      "metadata": {
        "colab": {
          "base_uri": "https://localhost:8080/"
        },
        "id": "WhITsDLD6TAK",
        "outputId": "e6e9602e-8bdd-4e2a-9aa0-dc9ad3fd6e9f"
      },
      "execution_count": 28,
      "outputs": [
        {
          "output_type": "execute_result",
          "data": {
            "text/plain": [
              "array([[1119,  317],\n",
              "       [ 291, 1149]])"
            ]
          },
          "metadata": {},
          "execution_count": 28
        }
      ]
    },
    {
      "cell_type": "code",
      "source": [
        "from sklearn.metrics import roc_auc_score\n",
        "\n",
        "roc_auc_score(y_test, model_opt.predict_proba(XX_test)[:,1])"
      ],
      "metadata": {
        "colab": {
          "base_uri": "https://localhost:8080/"
        },
        "id": "qy-z0sMADCCm",
        "outputId": "166a4b1c-69de-40e0-f7b9-8d2bfc91325e"
      },
      "execution_count": 29,
      "outputs": [
        {
          "output_type": "execute_result",
          "data": {
            "text/plain": [
              "0.8676386954503249"
            ]
          },
          "metadata": {},
          "execution_count": 29
        }
      ]
    },
    {
      "cell_type": "markdown",
      "source": [
        "kNN"
      ],
      "metadata": {
        "id": "EsX7g6dSKlT1"
      }
    },
    {
      "cell_type": "code",
      "source": [
        "from sklearn.preprocessing import MinMaxScaler\n",
        "from sklearn.neighbors import KNeighborsClassifier\n",
        "\n",
        "scaler = MinMaxScaler()\n",
        "fitting = scaler.fit_transform(XX)\n",
        "\n",
        "Xk = pd.DataFrame(fitting, columns=XX.columns)"
      ],
      "metadata": {
        "id": "6gpGVsTIKoCd"
      },
      "execution_count": 30,
      "outputs": []
    },
    {
      "cell_type": "code",
      "source": [
        "Xk_train, Xk_test, y_train, y_test = train_test_split(Xk, y, test_size=0.3,random_state=1)\n",
        "\n",
        "knn = KNeighborsClassifier(n_neighbors=5, metric='euclidean')\n",
        "knn.fit(Xk_train, y_train)\n",
        "y_pred_k = knn.predict(Xk_test)\n",
        "y_proba_k = knn.predict_proba(Xk_test)"
      ],
      "metadata": {
        "id": "5YybchDmM-7u"
      },
      "execution_count": 31,
      "outputs": []
    },
    {
      "cell_type": "code",
      "source": [
        "print(roc_auc_score(y_test,y_proba_k[:,1]))\n",
        "print(confusion_matrix(y_test,y_pred_k))\n",
        "print(classification_report(y_test,y_pred_k))"
      ],
      "metadata": {
        "colab": {
          "base_uri": "https://localhost:8080/"
        },
        "id": "3T77jDu7OOHy",
        "outputId": "8ba78ead-83e9-426f-abf6-a272e37662ae"
      },
      "execution_count": 32,
      "outputs": [
        {
          "output_type": "stream",
          "name": "stdout",
          "text": [
            "0.7645112774682761\n",
            "[[ 995  441]\n",
            " [ 397 1043]]\n",
            "              precision    recall  f1-score   support\n",
            "\n",
            "           0       0.71      0.69      0.70      1436\n",
            "           1       0.70      0.72      0.71      1440\n",
            "\n",
            "    accuracy                           0.71      2876\n",
            "   macro avg       0.71      0.71      0.71      2876\n",
            "weighted avg       0.71      0.71      0.71      2876\n",
            "\n"
          ]
        }
      ]
    },
    {
      "cell_type": "code",
      "source": [
        "log_loss(y_test,y_proba_k)"
      ],
      "metadata": {
        "colab": {
          "base_uri": "https://localhost:8080/"
        },
        "id": "PGfHLX3CO3aj",
        "outputId": "f6407ae4-61cb-4c86-fd6e-72f88ce78405"
      },
      "execution_count": 33,
      "outputs": [
        {
          "output_type": "execute_result",
          "data": {
            "text/plain": [
              "2.0871007748270105"
            ]
          },
          "metadata": {},
          "execution_count": 33
        }
      ]
    },
    {
      "cell_type": "markdown",
      "source": [
        "Boosted Tree"
      ],
      "metadata": {
        "id": "wryHccdcPq8S"
      }
    },
    {
      "cell_type": "code",
      "source": [
        "from sklearn.ensemble import AdaBoostClassifier\n",
        "\n",
        "boosted_tree = AdaBoostClassifier(n_estimators=100)\n",
        "boosted_tree.fit(Xk_train,y_train)\n",
        "y_pred_bt = boosted_tree.predict(Xk_test)\n",
        "y_proba_bt = boosted_tree.predict_proba(Xk_test)"
      ],
      "metadata": {
        "id": "MU1qUeY1Pmf_"
      },
      "execution_count": 34,
      "outputs": []
    },
    {
      "cell_type": "code",
      "source": [
        "print(roc_auc_score(y_test,y_proba_bt[:,1]))\n",
        "print(confusion_matrix(y_test,y_pred_bt))\n",
        "print(classification_report(y_test,y_pred_bt))\n",
        "print(log_loss(y_test,y_proba_bt))"
      ],
      "metadata": {
        "colab": {
          "base_uri": "https://localhost:8080/"
        },
        "id": "94qjfOh2RKD4",
        "outputId": "a76105bc-0a63-43a2-e44a-e9c552cc78b6"
      },
      "execution_count": 35,
      "outputs": [
        {
          "output_type": "stream",
          "name": "stdout",
          "text": [
            "0.8368113587124729\n",
            "[[1083  353]\n",
            " [ 343 1097]]\n",
            "              precision    recall  f1-score   support\n",
            "\n",
            "           0       0.76      0.75      0.76      1436\n",
            "           1       0.76      0.76      0.76      1440\n",
            "\n",
            "    accuracy                           0.76      2876\n",
            "   macro avg       0.76      0.76      0.76      2876\n",
            "weighted avg       0.76      0.76      0.76      2876\n",
            "\n",
            "0.6877390682641799\n"
          ]
        }
      ]
    },
    {
      "cell_type": "markdown",
      "source": [
        "Random Forrest"
      ],
      "metadata": {
        "id": "7ADsGQeAS5Oc"
      }
    },
    {
      "cell_type": "code",
      "source": [
        "from sklearn.ensemble import RandomForestClassifier\n",
        "\n",
        "random_forest  = RandomForestClassifier(max_depth=5, random_state=0)\n",
        "random_forest.fit(Xk_train,y_train)\n",
        "y_pred_rf = random_forest.predict(Xk_test)\n",
        "y_proba_rf = random_forest.predict_proba(Xk_test)"
      ],
      "metadata": {
        "id": "J49vi3lyS1O7"
      },
      "execution_count": 36,
      "outputs": []
    },
    {
      "cell_type": "code",
      "source": [
        "print(roc_auc_score(y_test,y_proba_rf[:,1]))\n",
        "print(confusion_matrix(y_test,y_pred_rf))\n",
        "print(classification_report(y_test,y_pred_rf))\n",
        "print(log_loss(y_test,y_proba_rf))"
      ],
      "metadata": {
        "colab": {
          "base_uri": "https://localhost:8080/"
        },
        "id": "lyyZ5vujW2nu",
        "outputId": "ea900f14-63a1-4613-8eb4-5d896dd09533"
      },
      "execution_count": 37,
      "outputs": [
        {
          "output_type": "stream",
          "name": "stdout",
          "text": [
            "0.7879768260600433\n",
            "[[1007  429]\n",
            " [ 377 1063]]\n",
            "              precision    recall  f1-score   support\n",
            "\n",
            "           0       0.73      0.70      0.71      1436\n",
            "           1       0.71      0.74      0.73      1440\n",
            "\n",
            "    accuracy                           0.72      2876\n",
            "   macro avg       0.72      0.72      0.72      2876\n",
            "weighted avg       0.72      0.72      0.72      2876\n",
            "\n",
            "0.5659276333092153\n"
          ]
        }
      ]
    },
    {
      "cell_type": "markdown",
      "source": [
        "ANN"
      ],
      "metadata": {
        "id": "RKwxKYGQZB83"
      }
    },
    {
      "cell_type": "code",
      "source": [
        "from sklearn.neural_network import MLPClassifier\n",
        "\n",
        "MLPC_model = MLPClassifier(hidden_layer_sizes=65, activation='logistic', solver='adam', random_state=1)\n",
        "MLPC_model.fit(Xk_train, y_train)\n",
        "y_pred_mlpc = MLPC_model.predict(Xk_test)"
      ],
      "metadata": {
        "colab": {
          "base_uri": "https://localhost:8080/"
        },
        "id": "2BHWp1I_ZDVl",
        "outputId": "f5d62089-b5dc-4869-8f33-e190435fd125"
      },
      "execution_count": 38,
      "outputs": [
        {
          "output_type": "stream",
          "name": "stderr",
          "text": [
            "/usr/local/lib/python3.8/dist-packages/sklearn/neural_network/_multilayer_perceptron.py:692: ConvergenceWarning: Stochastic Optimizer: Maximum iterations (200) reached and the optimization hasn't converged yet.\n",
            "  warnings.warn(\n"
          ]
        }
      ]
    },
    {
      "cell_type": "code",
      "source": [
        "print(confusion_matrix(y_test,y_pred_mlpc))\n",
        "print(classification_report(y_test,y_pred_mlpc))\n",
        "print(log_loss(y_test,y_pred_mlpc))\n",
        "print(roc_auc_score(y_test,y_pred_mlpc))"
      ],
      "metadata": {
        "colab": {
          "base_uri": "https://localhost:8080/"
        },
        "id": "xVvIFNaP_1xr",
        "outputId": "cde35d25-4397-4849-a1b2-f54c44d91b04"
      },
      "execution_count": 39,
      "outputs": [
        {
          "output_type": "stream",
          "name": "stdout",
          "text": [
            "[[1122  314]\n",
            " [ 348 1092]]\n",
            "              precision    recall  f1-score   support\n",
            "\n",
            "           0       0.76      0.78      0.77      1436\n",
            "           1       0.78      0.76      0.77      1440\n",
            "\n",
            "    accuracy                           0.77      2876\n",
            "   macro avg       0.77      0.77      0.77      2876\n",
            "weighted avg       0.77      0.77      0.77      2876\n",
            "\n",
            "7.950250711760764\n",
            "0.7698351903435469\n"
          ]
        }
      ]
    },
    {
      "cell_type": "code",
      "source": [
        "from sklearn.metrics import roc_auc_score\n",
        "from sklearn.metrics import roc_curve\n",
        "import matplotlib.pyplot as plt\n",
        "from sklearn import metrics\n",
        "#log\n",
        "fpr, tpr, _ = metrics.roc_curve(y_test,  model_opt.predict_proba(XX_test)[:,1])\n",
        "auc = round(metrics.roc_auc_score(y_test, model_opt.predict_proba(XX_test)[:,1] ), 4)\n",
        "plt.plot(fpr,tpr,label=\"Logistic Regression, AUC=\"+str(auc))\n",
        "#kNN\n",
        "fpr, tpr, _ = metrics.roc_curve(y_test, knn.predict_proba(Xk_test)[:,1])\n",
        "auc = round(metrics.roc_auc_score(y_test, knn.predict_proba(Xk_test)[:,1] ), 4)\n",
        "plt.plot(fpr,tpr,label=\"kNN, AUC=\"+str(auc))\n",
        "# Boosted Tree\n",
        "fpr, tpr, _ = metrics.roc_curve(y_test, boosted_tree.predict_proba(Xk_test)[:,1])\n",
        "auc = round(metrics.roc_auc_score(y_test, boosted_tree.predict_proba(Xk_test)[:,1] ), 4)\n",
        "plt.plot(fpr,tpr,label=\"Boosted Tree, AUC=\"+str(auc))\n",
        "# Random Forest\n",
        "fpr, tpr, _ = metrics.roc_curve(y_test, random_forest.predict_proba(Xk_test)[:,1])\n",
        "auc = round(metrics.roc_auc_score(y_test, random_forest.predict_proba(Xk_test)[:,1] ), 4)\n",
        "plt.plot(fpr,tpr,label=\"Random Forest , AUC=\"+str(auc))\n",
        "#ANN\n",
        "fpr, tpr, _ = metrics.roc_curve(y_test, MLPC_model.predict(Xk_test))\n",
        "auc = round(metrics.roc_auc_score(y_test, MLPC_model.predict(Xk_test) ), 4)\n",
        "plt.plot(fpr,tpr,label=\"ANN , AUC=\"+str(auc))\n",
        "plt.legend()"
      ],
      "metadata": {
        "colab": {
          "base_uri": "https://localhost:8080/",
          "height": 282
        },
        "id": "QJwSzxnnaLmV",
        "outputId": "6d6f1d68-fa30-4d6b-e39a-8fe662174463"
      },
      "execution_count": 40,
      "outputs": [
        {
          "output_type": "execute_result",
          "data": {
            "text/plain": [
              "<matplotlib.legend.Legend at 0x7efdc8370c70>"
            ]
          },
          "metadata": {},
          "execution_count": 40
        },
        {
          "output_type": "display_data",
          "data": {
            "text/plain": [
              "<Figure size 432x288 with 1 Axes>"
            ],
            "image/png": "[encoded data removed]"
          },
          "metadata": {
            "needs_background": "light"
          }
        }
      ]
    },
    {
      "cell_type": "markdown",
      "source": [
        "Preprocessed a new Dataset. New dataset uses exactly the same data as the prior except I removed game by game data and created 10 game rolling averages with the game by game stats instead. I also addressed the issue where both home and away statistics werent on the same row. Recreating models with new dataset"
      ],
      "metadata": {
        "id": "ncGWZ_6smq5c"
      }
    },
    {
      "cell_type": "code",
      "source": [
        "prep"
      ],
      "metadata": {
        "id": "cI9scslo4YYc",
        "outputId": "ab16d3eb-db54-4751-db0e-677f0d007114",
        "colab": {
          "base_uri": "https://localhost:8080/",
          "height": 488
        }
      },
      "execution_count": 164,
      "outputs": [
        {
          "output_type": "execute_result",
          "data": {
            "text/plain": [
              "       xGoal%Run  Corsi%Run  Fen%Run  xGoalsForRun  FSVAdjustedxGoalRun  \\\n",
              "0        0.50726    0.53117  0.53826        2.5045               2.5295   \n",
              "1        0.45481    0.45460  0.44968        2.5657               2.3447   \n",
              "2        0.48884    0.51236  0.51644        2.4003               2.4918   \n",
              "3        0.54158    0.49099  0.49263        3.1641               2.9474   \n",
              "4        0.43599    0.43434  0.44148        2.2016               2.2778   \n",
              "...          ...        ...      ...           ...                  ...   \n",
              "19447    0.48156    0.52473  0.53452        2.5851               2.5883   \n",
              "19448    0.35018    0.41808  0.39823        2.1021               1.9214   \n",
              "19449    0.50208    0.47386  0.47879        3.2323               3.2564   \n",
              "19450    0.47233    0.49883  0.49072        2.8518               2.6742   \n",
              "19451    0.42794    0.45913  0.47071        2.9108               2.8669   \n",
              "\n",
              "       SogRun  GoalsForRun  SavedShotsRun  SavedUnblockedShotsRun  \\\n",
              "0        29.8          3.0           26.8                    38.7   \n",
              "1        29.5          2.8           26.7                    38.9   \n",
              "2        28.1          3.2           24.9                    35.9   \n",
              "3        30.0          3.0           27.0                    40.2   \n",
              "4        25.7          3.5           22.2                    31.8   \n",
              "...       ...          ...            ...                     ...   \n",
              "19447    32.4          2.8           29.6                    42.2   \n",
              "19448    24.2          2.1           22.1                    33.6   \n",
              "19449    29.0          3.6           25.4                    38.7   \n",
              "19450    30.1          2.4           27.7                    39.4   \n",
              "19451    32.5          2.1           30.4                    41.3   \n",
              "\n",
              "       GoalsAgainstRun  ...       O1       O2       O3      O4      O5    O6  \\\n",
              "0                  2.7  ...  0.45481  0.45460  0.44968  2.5657  2.3447  29.5   \n",
              "1                  3.3  ...  0.50726  0.53117  0.53826  2.5045  2.5295  29.8   \n",
              "2                  1.5  ...  0.54158  0.49099  0.49263  3.1641  2.9474  30.0   \n",
              "3                  2.6  ...  0.48884  0.51236  0.51644  2.4003  2.4918  28.1   \n",
              "4                  2.2  ...  0.54332  0.52716  0.53018  2.9382  2.7642  30.7   \n",
              "...                ...  ...      ...      ...      ...     ...     ...   ...   \n",
              "19447              3.5  ...  0.45576  0.49857  0.49809  2.6553  2.5512  32.1   \n",
              "19448              4.2  ...  0.55107  0.54011  0.54216  3.5756  3.6153  36.7   \n",
              "19449              3.9  ...  0.60106  0.57818  0.56233  3.4950  3.3067  31.7   \n",
              "19450              3.2  ...  0.38806  0.43492  0.42106  2.6638  2.6360  28.7   \n",
              "19451              3.7  ...  0.55188  0.53635  0.53068  2.2902  2.2188  27.0   \n",
              "\n",
              "        O7    O8    O9  O10  \n",
              "0      2.8  26.7  38.9  3.3  \n",
              "1      3.0  26.8  38.7  2.7  \n",
              "2      3.0  27.0  40.2  2.6  \n",
              "3      3.2  24.9  35.9  1.5  \n",
              "4      2.8  27.9  39.4  3.2  \n",
              "...    ...   ...   ...  ...  \n",
              "19447  2.1  30.0  43.2  2.9  \n",
              "19448  4.3  32.4  44.9  3.9  \n",
              "19449  2.8  28.9  44.9  2.1  \n",
              "19450  2.2  26.5  37.2  3.8  \n",
              "19451  2.2  24.8  34.1  2.3  \n",
              "\n",
              "[19452 rows x 21 columns]"
            ],
            "text/html": [
              "\n",
              "  <div id=\"df-4501e407-7bf5-4cd4-ab78-06be78f28987\">\n",
              "    <div class=\"colab-df-container\">\n",
              "      <div>\n",
              "<style scoped>\n",
              "    .dataframe tbody tr th:only-of-type {\n",
              "        vertical-align: middle;\n",
              "    }\n",
              "\n",
              "    .dataframe tbody tr th {\n",
              "        vertical-align: top;\n",
              "    }\n",
              "\n",
              "    .dataframe thead th {\n",
              "        text-align: right;\n",
              "    }\n",
              "</style>\n",
              "<table border=\"1\" class=\"dataframe\">\n",
              "  <thead>\n",
              "    <tr style=\"text-align: right;\">\n",
              "      <th></th>\n",
              "      <th>xGoal%Run</th>\n",
              "      <th>Corsi%Run</th>\n",
              "      <th>Fen%Run</th>\n",
              "      <th>xGoalsForRun</th>\n",
              "      <th>FSVAdjustedxGoalRun</th>\n",
              "      <th>SogRun</th>\n",
              "      <th>GoalsForRun</th>\n",
              "      <th>SavedShotsRun</th>\n",
              "      <th>SavedUnblockedShotsRun</th>\n",
              "      <th>GoalsAgainstRun</th>\n",
              "      <th>...</th>\n",
              "      <th>O1</th>\n",
              "      <th>O2</th>\n",
              "      <th>O3</th>\n",
              "      <th>O4</th>\n",
              "      <th>O5</th>\n",
              "      <th>O6</th>\n",
              "      <th>O7</th>\n",
              "      <th>O8</th>\n",
              "      <th>O9</th>\n",
              "      <th>O10</th>\n",
              "    </tr>\n",
              "  </thead>\n",
              "  <tbody>\n",
              "    <tr>\n",
              "      <th>0</th>\n",
              "      <td>0.50726</td>\n",
              "      <td>0.53117</td>\n",
              "      <td>0.53826</td>\n",
              "      <td>2.5045</td>\n",
              "      <td>2.5295</td>\n",
              "      <td>29.8</td>\n",
              "      <td>3.0</td>\n",
              "      <td>26.8</td>\n",
              "      <td>38.7</td>\n",
              "      <td>2.7</td>\n",
              "      <td>...</td>\n",
              "      <td>0.45481</td>\n",
              "      <td>0.45460</td>\n",
              "      <td>0.44968</td>\n",
              "      <td>2.5657</td>\n",
              "      <td>2.3447</td>\n",
              "      <td>29.5</td>\n",
              "      <td>2.8</td>\n",
              "      <td>26.7</td>\n",
              "      <td>38.9</td>\n",
              "      <td>3.3</td>\n",
              "    </tr>\n",
              "    <tr>\n",
              "      <th>1</th>\n",
              "      <td>0.45481</td>\n",
              "      <td>0.45460</td>\n",
              "      <td>0.44968</td>\n",
              "      <td>2.5657</td>\n",
              "      <td>2.3447</td>\n",
              "      <td>29.5</td>\n",
              "      <td>2.8</td>\n",
              "      <td>26.7</td>\n",
              "      <td>38.9</td>\n",
              "      <td>3.3</td>\n",
              "      <td>...</td>\n",
              "      <td>0.50726</td>\n",
              "      <td>0.53117</td>\n",
              "      <td>0.53826</td>\n",
              "      <td>2.5045</td>\n",
              "      <td>2.5295</td>\n",
              "      <td>29.8</td>\n",
              "      <td>3.0</td>\n",
              "      <td>26.8</td>\n",
              "      <td>38.7</td>\n",
              "      <td>2.7</td>\n",
              "    </tr>\n",
              "    <tr>\n",
              "      <th>2</th>\n",
              "      <td>0.48884</td>\n",
              "      <td>0.51236</td>\n",
              "      <td>0.51644</td>\n",
              "      <td>2.4003</td>\n",
              "      <td>2.4918</td>\n",
              "      <td>28.1</td>\n",
              "      <td>3.2</td>\n",
              "      <td>24.9</td>\n",
              "      <td>35.9</td>\n",
              "      <td>1.5</td>\n",
              "      <td>...</td>\n",
              "      <td>0.54158</td>\n",
              "      <td>0.49099</td>\n",
              "      <td>0.49263</td>\n",
              "      <td>3.1641</td>\n",
              "      <td>2.9474</td>\n",
              "      <td>30.0</td>\n",
              "      <td>3.0</td>\n",
              "      <td>27.0</td>\n",
              "      <td>40.2</td>\n",
              "      <td>2.6</td>\n",
              "    </tr>\n",
              "    <tr>\n",
              "      <th>3</th>\n",
              "      <td>0.54158</td>\n",
              "      <td>0.49099</td>\n",
              "      <td>0.49263</td>\n",
              "      <td>3.1641</td>\n",
              "      <td>2.9474</td>\n",
              "      <td>30.0</td>\n",
              "      <td>3.0</td>\n",
              "      <td>27.0</td>\n",
              "      <td>40.2</td>\n",
              "      <td>2.6</td>\n",
              "      <td>...</td>\n",
              "      <td>0.48884</td>\n",
              "      <td>0.51236</td>\n",
              "      <td>0.51644</td>\n",
              "      <td>2.4003</td>\n",
              "      <td>2.4918</td>\n",
              "      <td>28.1</td>\n",
              "      <td>3.2</td>\n",
              "      <td>24.9</td>\n",
              "      <td>35.9</td>\n",
              "      <td>1.5</td>\n",
              "    </tr>\n",
              "    <tr>\n",
              "      <th>4</th>\n",
              "      <td>0.43599</td>\n",
              "      <td>0.43434</td>\n",
              "      <td>0.44148</td>\n",
              "      <td>2.2016</td>\n",
              "      <td>2.2778</td>\n",
              "      <td>25.7</td>\n",
              "      <td>3.5</td>\n",
              "      <td>22.2</td>\n",
              "      <td>31.8</td>\n",
              "      <td>2.2</td>\n",
              "      <td>...</td>\n",
              "      <td>0.54332</td>\n",
              "      <td>0.52716</td>\n",
              "      <td>0.53018</td>\n",
              "      <td>2.9382</td>\n",
              "      <td>2.7642</td>\n",
              "      <td>30.7</td>\n",
              "      <td>2.8</td>\n",
              "      <td>27.9</td>\n",
              "      <td>39.4</td>\n",
              "      <td>3.2</td>\n",
              "    </tr>\n",
              "    <tr>\n",
              "      <th>...</th>\n",
              "      <td>...</td>\n",
              "      <td>...</td>\n",
              "      <td>...</td>\n",
              "      <td>...</td>\n",
              "      <td>...</td>\n",
              "      <td>...</td>\n",
              "      <td>...</td>\n",
              "      <td>...</td>\n",
              "      <td>...</td>\n",
              "      <td>...</td>\n",
              "      <td>...</td>\n",
              "      <td>...</td>\n",
              "      <td>...</td>\n",
              "      <td>...</td>\n",
              "      <td>...</td>\n",
              "      <td>...</td>\n",
              "      <td>...</td>\n",
              "      <td>...</td>\n",
              "      <td>...</td>\n",
              "      <td>...</td>\n",
              "      <td>...</td>\n",
              "    </tr>\n",
              "    <tr>\n",
              "      <th>19447</th>\n",
              "      <td>0.48156</td>\n",
              "      <td>0.52473</td>\n",
              "      <td>0.53452</td>\n",
              "      <td>2.5851</td>\n",
              "      <td>2.5883</td>\n",
              "      <td>32.4</td>\n",
              "      <td>2.8</td>\n",
              "      <td>29.6</td>\n",
              "      <td>42.2</td>\n",
              "      <td>3.5</td>\n",
              "      <td>...</td>\n",
              "      <td>0.45576</td>\n",
              "      <td>0.49857</td>\n",
              "      <td>0.49809</td>\n",
              "      <td>2.6553</td>\n",
              "      <td>2.5512</td>\n",
              "      <td>32.1</td>\n",
              "      <td>2.1</td>\n",
              "      <td>30.0</td>\n",
              "      <td>43.2</td>\n",
              "      <td>2.9</td>\n",
              "    </tr>\n",
              "    <tr>\n",
              "      <th>19448</th>\n",
              "      <td>0.35018</td>\n",
              "      <td>0.41808</td>\n",
              "      <td>0.39823</td>\n",
              "      <td>2.1021</td>\n",
              "      <td>1.9214</td>\n",
              "      <td>24.2</td>\n",
              "      <td>2.1</td>\n",
              "      <td>22.1</td>\n",
              "      <td>33.6</td>\n",
              "      <td>4.2</td>\n",
              "      <td>...</td>\n",
              "      <td>0.55107</td>\n",
              "      <td>0.54011</td>\n",
              "      <td>0.54216</td>\n",
              "      <td>3.5756</td>\n",
              "      <td>3.6153</td>\n",
              "      <td>36.7</td>\n",
              "      <td>4.3</td>\n",
              "      <td>32.4</td>\n",
              "      <td>44.9</td>\n",
              "      <td>3.9</td>\n",
              "    </tr>\n",
              "    <tr>\n",
              "      <th>19449</th>\n",
              "      <td>0.50208</td>\n",
              "      <td>0.47386</td>\n",
              "      <td>0.47879</td>\n",
              "      <td>3.2323</td>\n",
              "      <td>3.2564</td>\n",
              "      <td>29.0</td>\n",
              "      <td>3.6</td>\n",
              "      <td>25.4</td>\n",
              "      <td>38.7</td>\n",
              "      <td>3.9</td>\n",
              "      <td>...</td>\n",
              "      <td>0.60106</td>\n",
              "      <td>0.57818</td>\n",
              "      <td>0.56233</td>\n",
              "      <td>3.4950</td>\n",
              "      <td>3.3067</td>\n",
              "      <td>31.7</td>\n",
              "      <td>2.8</td>\n",
              "      <td>28.9</td>\n",
              "      <td>44.9</td>\n",
              "      <td>2.1</td>\n",
              "    </tr>\n",
              "    <tr>\n",
              "      <th>19450</th>\n",
              "      <td>0.47233</td>\n",
              "      <td>0.49883</td>\n",
              "      <td>0.49072</td>\n",
              "      <td>2.8518</td>\n",
              "      <td>2.6742</td>\n",
              "      <td>30.1</td>\n",
              "      <td>2.4</td>\n",
              "      <td>27.7</td>\n",
              "      <td>39.4</td>\n",
              "      <td>3.2</td>\n",
              "      <td>...</td>\n",
              "      <td>0.38806</td>\n",
              "      <td>0.43492</td>\n",
              "      <td>0.42106</td>\n",
              "      <td>2.6638</td>\n",
              "      <td>2.6360</td>\n",
              "      <td>28.7</td>\n",
              "      <td>2.2</td>\n",
              "      <td>26.5</td>\n",
              "      <td>37.2</td>\n",
              "      <td>3.8</td>\n",
              "    </tr>\n",
              "    <tr>\n",
              "      <th>19451</th>\n",
              "      <td>0.42794</td>\n",
              "      <td>0.45913</td>\n",
              "      <td>0.47071</td>\n",
              "      <td>2.9108</td>\n",
              "      <td>2.8669</td>\n",
              "      <td>32.5</td>\n",
              "      <td>2.1</td>\n",
              "      <td>30.4</td>\n",
              "      <td>41.3</td>\n",
              "      <td>3.7</td>\n",
              "      <td>...</td>\n",
              "      <td>0.55188</td>\n",
              "      <td>0.53635</td>\n",
              "      <td>0.53068</td>\n",
              "      <td>2.2902</td>\n",
              "      <td>2.2188</td>\n",
              "      <td>27.0</td>\n",
              "      <td>2.2</td>\n",
              "      <td>24.8</td>\n",
              "      <td>34.1</td>\n",
              "      <td>2.3</td>\n",
              "    </tr>\n",
              "  </tbody>\n",
              "</table>\n",
              "<p>19452 rows × 21 columns</p>\n",
              "</div>\n",
              "      <button class=\"colab-df-convert\" onclick=\"convertToInteractive('df-4501e407-7bf5-4cd4-ab78-06be78f28987')\"\n",
              "              title=\"Convert this dataframe to an interactive table.\"\n",
              "              style=\"display:none;\">\n",
              "        \n",
              "  <svg xmlns=\"http://www.w3.org/2000/svg\" height=\"24px\"viewBox=\"0 0 24 24\"\n",
              "       width=\"24px\">\n",
              "    <path d=\"M0 0h24v24H0V0z\" fill=\"none\"/>\n",
              "    <path d=\"M18.56 5.44l.94 2.06.94-2.06 2.06-.94-2.06-.94-.94-2.06-.94 2.06-2.06.94zm-11 1L8.5 8.5l.94-2.06 2.06-.94-2.06-.94L8.5 2.5l-.94 2.06-2.06.94zm10 10l.94 2.06.94-2.06 2.06-.94-2.06-.94-.94-2.06-.94 2.06-2.06.94z\"/><path d=\"M17.41 7.96l-1.37-1.37c-.4-.4-.92-.59-1.43-.59-.52 0-1.04.2-1.43.59L10.3 9.45l-7.72 7.72c-.78.78-.78 2.05 0 2.83L4 21.41c.39.39.9.59 1.41.59.51 0 1.02-.2 1.41-.59l7.78-7.78 2.81-2.81c.8-.78.8-2.07 0-2.86zM5.41 20L4 18.59l7.72-7.72 1.47 1.35L5.41 20z\"/>\n",
              "  </svg>\n",
              "      </button>\n",
              "      \n",
              "  <style>\n",
              "    .colab-df-container {\n",
              "      display:flex;\n",
              "      flex-wrap:wrap;\n",
              "      gap: 12px;\n",
              "    }\n",
              "\n",
              "    .colab-df-convert {\n",
              "      background-color: #E8F0FE;\n",
              "      border: none;\n",
              "      border-radius: 50%;\n",
              "      cursor: pointer;\n",
              "      display: none;\n",
              "      fill: #1967D2;\n",
              "      height: 32px;\n",
              "      padding: 0 0 0 0;\n",
              "      width: 32px;\n",
              "    }\n",
              "\n",
              "    .colab-df-convert:hover {\n",
              "      background-color: #E2EBFA;\n",
              "      box-shadow: 0px 1px 2px rgba(60, 64, 67, 0.3), 0px 1px 3px 1px rgba(60, 64, 67, 0.15);\n",
              "      fill: #174EA6;\n",
              "    }\n",
              "\n",
              "    [theme=dark] .colab-df-convert {\n",
              "      background-color: #3B4455;\n",
              "      fill: #D2E3FC;\n",
              "    }\n",
              "\n",
              "    [theme=dark] .colab-df-convert:hover {\n",
              "      background-color: #434B5C;\n",
              "      box-shadow: 0px 1px 3px 1px rgba(0, 0, 0, 0.15);\n",
              "      filter: drop-shadow(0px 1px 2px rgba(0, 0, 0, 0.3));\n",
              "      fill: #FFFFFF;\n",
              "    }\n",
              "  </style>\n",
              "\n",
              "      <script>\n",
              "        const buttonEl =\n",
              "          document.querySelector('#df-4501e407-7bf5-4cd4-ab78-06be78f28987 button.colab-df-convert');\n",
              "        buttonEl.style.display =\n",
              "          google.colab.kernel.accessAllowed ? 'block' : 'none';\n",
              "\n",
              "        async function convertToInteractive(key) {\n",
              "          const element = document.querySelector('#df-4501e407-7bf5-4cd4-ab78-06be78f28987');\n",
              "          const dataTable =\n",
              "            await google.colab.kernel.invokeFunction('convertToInteractive',\n",
              "                                                     [key], {});\n",
              "          if (!dataTable) return;\n",
              "\n",
              "          const docLinkHtml = 'Like what you see? Visit the ' +\n",
              "            '<a target=\"_blank\" href=https://colab.research.google.com/notebooks/data_table.ipynb>data table notebook</a>'\n",
              "            + ' to learn more about interactive tables.';\n",
              "          element.innerHTML = '';\n",
              "          dataTable['output_type'] = 'display_data';\n",
              "          await google.colab.output.renderOutput(dataTable, element);\n",
              "          const docLink = document.createElement('div');\n",
              "          docLink.innerHTML = docLinkHtml;\n",
              "          element.appendChild(docLink);\n",
              "        }\n",
              "      </script>\n",
              "    </div>\n",
              "  </div>\n",
              "  "
            ]
          },
          "metadata": {},
          "execution_count": 164
        }
      ]
    },
    {
      "cell_type": "markdown",
      "source": [
        "Logistic Regression"
      ],
      "metadata": {
        "id": "tOrKU61wdPZA"
      }
    },
    {
      "cell_type": "code",
      "source": [
        "prep = pd.read_csv('prepped_data.csv')"
      ],
      "metadata": {
        "id": "8j7FtQvWiw9c"
      },
      "execution_count": 206,
      "outputs": []
    },
    {
      "cell_type": "code",
      "source": [
        "corel = prep.corr()['Win'].sort_values(ascending=False)\n",
        "corel.head(20)"
      ],
      "metadata": {
        "id": "A5d4TL4H4J5N",
        "outputId": "37d9518f-07d5-4de0-af4a-1a8a41736917",
        "colab": {
          "base_uri": "https://localhost:8080/"
        }
      },
      "execution_count": 207,
      "outputs": [
        {
          "output_type": "execute_result",
          "data": {
            "text/plain": [
              "Win                       1.000000\n",
              "xGoal%Run                 0.121039\n",
              "Fen%Run                   0.117349\n",
              "Corsi%Run                 0.110774\n",
              "xGoalsForRun              0.093879\n",
              "FSVAdjustedxGoalRun       0.090404\n",
              "GoalsForRun               0.086438\n",
              "SogRun                    0.084325\n",
              "SavedUnblockedShotsRun    0.079273\n",
              "SavedShotsRun             0.070024\n",
              "O10                       0.008292\n",
              "O5                        0.005440\n",
              "O4                       -0.004754\n",
              "O8                       -0.006808\n",
              "O9                       -0.008847\n",
              "O6                       -0.009173\n",
              "O7                       -0.013043\n",
              "O1                       -0.015455\n",
              "O3                       -0.016344\n",
              "O2                       -0.016687\n",
              "Name: Win, dtype: float64"
            ]
          },
          "metadata": {},
          "execution_count": 207
        }
      ]
    },
    {
      "cell_type": "code",
      "source": [
        "prep.shape"
      ],
      "metadata": {
        "colab": {
          "base_uri": "https://localhost:8080/"
        },
        "id": "WgYfKGPrqL-X",
        "outputId": "4587040e-032f-40da-c750-d226e5225b1a"
      },
      "execution_count": 208,
      "outputs": [
        {
          "output_type": "execute_result",
          "data": {
            "text/plain": [
              "(19452, 21)"
            ]
          },
          "metadata": {},
          "execution_count": 208
        }
      ]
    },
    {
      "cell_type": "code",
      "source": [
        "sb.histplot(data = prep, x= 'Win')"
      ],
      "metadata": {
        "colab": {
          "base_uri": "https://localhost:8080/",
          "height": 296
        },
        "id": "RdfPxGtnq-ax",
        "outputId": "e037ddcd-2c15-4240-8ae1-c25f492ff487"
      },
      "execution_count": 209,
      "outputs": [
        {
          "output_type": "execute_result",
          "data": {
            "text/plain": [
              "<matplotlib.axes._subplots.AxesSubplot at 0x7efd579885e0>"
            ]
          },
          "metadata": {},
          "execution_count": 209
        },
        {
          "output_type": "display_data",
          "data": {
            "text/plain": [
              "<Figure size 432x288 with 1 Axes>"
            ],
            "image/png": "[encoded data removed]"
          },
          "metadata": {
            "needs_background": "light"
          }
        }
      ]
    },
    {
      "cell_type": "code",
      "source": [
        "X = prep.drop(['Win'],axis = 1)\n",
        "y = prep['Win']"
      ],
      "metadata": {
        "id": "Qg1Dhx6ia3Sc"
      },
      "execution_count": 210,
      "outputs": []
    },
    {
      "cell_type": "code",
      "source": [
        "X_train, X_test, y_train, y_test = train_test_split(X, y, test_size=0.3, random_state=1)"
      ],
      "metadata": {
        "id": "pascmXjAcFDu"
      },
      "execution_count": 211,
      "outputs": []
    },
    {
      "cell_type": "code",
      "source": [
        "model1 = LogisticRegression(solver='liblinear')\n",
        "model1.fit(X_train,y_train)"
      ],
      "metadata": {
        "colab": {
          "base_uri": "https://localhost:8080/"
        },
        "id": "vM0Im9dScIH2",
        "outputId": "30bc91b5-503a-4a8d-c625-ca74f177ef4a"
      },
      "execution_count": 212,
      "outputs": [
        {
          "output_type": "execute_result",
          "data": {
            "text/plain": [
              "LogisticRegression(solver='liblinear')"
            ]
          },
          "metadata": {},
          "execution_count": 212
        }
      ]
    },
    {
      "cell_type": "code",
      "source": [
        "ypred = model1.predict(X_test)\n",
        "yproba = model1.predict_proba(X_test)"
      ],
      "metadata": {
        "id": "9lJouPcNcUkn"
      },
      "execution_count": 213,
      "outputs": []
    },
    {
      "cell_type": "code",
      "source": [
        "print(confusion_matrix(y_test,ypred))\n",
        "log_loss(y_test,yproba)"
      ],
      "metadata": {
        "colab": {
          "base_uri": "https://localhost:8080/"
        },
        "id": "YW6_JTAvcbF9",
        "outputId": "df94c84b-9827-4326-de8e-256208654b31"
      },
      "execution_count": 214,
      "outputs": [
        {
          "output_type": "stream",
          "name": "stdout",
          "text": [
            "[[1594 1310]\n",
            " [1327 1605]]\n"
          ]
        },
        {
          "output_type": "execute_result",
          "data": {
            "text/plain": [
              "0.6856763633079157"
            ]
          },
          "metadata": {},
          "execution_count": 214
        }
      ]
    },
    {
      "cell_type": "code",
      "source": [
        "print(classification_report(y_test,ypred))"
      ],
      "metadata": {
        "colab": {
          "base_uri": "https://localhost:8080/"
        },
        "id": "olZDbWUJdeGx",
        "outputId": "d802d835-2f9a-4a46-a171-21d094951aa6"
      },
      "execution_count": 215,
      "outputs": [
        {
          "output_type": "stream",
          "name": "stdout",
          "text": [
            "              precision    recall  f1-score   support\n",
            "\n",
            "           0       0.55      0.55      0.55      2904\n",
            "           1       0.55      0.55      0.55      2932\n",
            "\n",
            "    accuracy                           0.55      5836\n",
            "   macro avg       0.55      0.55      0.55      5836\n",
            "weighted avg       0.55      0.55      0.55      5836\n",
            "\n"
          ]
        }
      ]
    },
    {
      "cell_type": "code",
      "source": [
        "print(roc_auc_score(y_test,ypred))"
      ],
      "metadata": {
        "colab": {
          "base_uri": "https://localhost:8080/"
        },
        "id": "vnsPjtUpdnwa",
        "outputId": "dc6643c5-1fc5-4e69-b423-5d32f51f4cfe"
      },
      "execution_count": 216,
      "outputs": [
        {
          "output_type": "stream",
          "name": "stdout",
          "text": [
            "0.5481529921564648\n"
          ]
        }
      ]
    },
    {
      "cell_type": "markdown",
      "source": [
        "kNN"
      ],
      "metadata": {
        "id": "JBQexCVSd0ew"
      }
    },
    {
      "cell_type": "code",
      "source": [
        "scaler = MinMaxScaler()\n",
        "fitting = scaler.fit_transform(X)\n",
        "\n",
        "X = pd.DataFrame(fitting, columns=X.columns)"
      ],
      "metadata": {
        "id": "PmEfJahadzSG"
      },
      "execution_count": 217,
      "outputs": []
    },
    {
      "cell_type": "code",
      "source": [
        "X_train, X_test, y_train, y_test = train_test_split(X, y, test_size=0.3,random_state=1)\n",
        "\n",
        "knn = KNeighborsClassifier(n_neighbors=97, metric='euclidean')\n",
        "knn.fit(X_train, y_train)\n",
        "y_pred_k = knn.predict(X_test)\n",
        "y_proba_k = knn.predict_proba(X_test)"
      ],
      "metadata": {
        "id": "Irqtn1-ReGnc"
      },
      "execution_count": 218,
      "outputs": []
    },
    {
      "cell_type": "code",
      "source": [
        "print(roc_auc_score(y_test,y_proba_k[:,1]))\n",
        "print(confusion_matrix(y_test,y_pred_k))\n",
        "print(classification_report(y_test,y_pred_k))\n",
        "print(log_loss(y_test,y_proba_k))"
      ],
      "metadata": {
        "id": "t30_7DXFeYco"
      },
      "execution_count": null,
      "outputs": []
    },
    {
      "cell_type": "code",
      "source": [
        "from sklearn.model_selection import cross_val_score\n",
        "\n",
        "maxk = 100\n",
        "cv_scores = [ ]\n",
        "\n",
        "for K in range(1,maxk):\n",
        "    knn = KNeighborsClassifier(n_neighbors = K)\n",
        "    scores = cross_val_score(knn,X_train,y_train.values.ravel(),cv = 5,scoring = \"roc_auc\")\n",
        "    cv_scores.append(scores.mean())"
      ],
      "metadata": {
        "id": "rhQYGaVGfkk0"
      },
      "execution_count": 55,
      "outputs": []
    },
    {
      "cell_type": "code",
      "source": [
        "cv_scores.index(max(cv_scores))+1"
      ],
      "metadata": {
        "colab": {
          "base_uri": "https://localhost:8080/"
        },
        "id": "NxqO0spufzy3",
        "outputId": "c83016f1-f04c-4d60-e9e3-ff3f70ff6e75"
      },
      "execution_count": 56,
      "outputs": [
        {
          "output_type": "execute_result",
          "data": {
            "text/plain": [
              "97"
            ]
          },
          "metadata": {},
          "execution_count": 56
        }
      ]
    },
    {
      "cell_type": "markdown",
      "source": [
        "Boosted Tree"
      ],
      "metadata": {
        "id": "vEWo9O2chU4s"
      }
    },
    {
      "cell_type": "code",
      "source": [
        "boosted_tree = AdaBoostClassifier(n_estimators=24)\n",
        "boosted_tree.fit(X_train,y_train)\n",
        "y_pred_bt = boosted_tree.predict(X_test)\n",
        "y_proba_bt = boosted_tree.predict_proba(X_test)"
      ],
      "metadata": {
        "id": "Zpn3gL9ihT6m"
      },
      "execution_count": 220,
      "outputs": []
    },
    {
      "cell_type": "code",
      "source": [
        "print(roc_auc_score(y_test,y_proba_bt[:,1]))\n",
        "print(confusion_matrix(y_test,y_pred_bt))\n",
        "print(classification_report(y_test,y_pred_bt))\n",
        "print(log_loss(y_test,y_proba_bt))"
      ],
      "metadata": {
        "colab": {
          "base_uri": "https://localhost:8080/"
        },
        "id": "epk-6jWuhkrq",
        "outputId": "329bd7e5-7cc4-4c4d-fa5a-974fb80cdacd"
      },
      "execution_count": 221,
      "outputs": [
        {
          "output_type": "stream",
          "name": "stdout",
          "text": [
            "0.5571124435787868\n",
            "[[1514 1390]\n",
            " [1280 1652]]\n",
            "              precision    recall  f1-score   support\n",
            "\n",
            "           0       0.54      0.52      0.53      2904\n",
            "           1       0.54      0.56      0.55      2932\n",
            "\n",
            "    accuracy                           0.54      5836\n",
            "   macro avg       0.54      0.54      0.54      5836\n",
            "weighted avg       0.54      0.54      0.54      5836\n",
            "\n",
            "0.6916070791050989\n"
          ]
        }
      ]
    },
    {
      "cell_type": "markdown",
      "source": [
        "Random Forest"
      ],
      "metadata": {
        "id": "sQj8yGyNi0uA"
      }
    },
    {
      "cell_type": "code",
      "source": [
        "random_forest  = RandomForestClassifier(max_depth=5, random_state=0)\n",
        "random_forest.fit(X_train,y_train)\n",
        "y_pred_rf = random_forest.predict(X_test)\n",
        "y_proba_rf = random_forest.predict_proba(X_test)"
      ],
      "metadata": {
        "id": "K5YJB83oimMk"
      },
      "execution_count": 222,
      "outputs": []
    },
    {
      "cell_type": "code",
      "source": [
        "print(roc_auc_score(y_test,y_proba_rf[:,1]))\n",
        "print(confusion_matrix(y_test,y_pred_rf))\n",
        "print(classification_report(y_test,y_pred_rf))\n",
        "print(log_loss(y_test,y_proba_rf))"
      ],
      "metadata": {
        "colab": {
          "base_uri": "https://localhost:8080/"
        },
        "id": "roFOupepjDR7",
        "outputId": "a6a9642b-d95f-4d5e-9e07-4fb4cd2bb36b"
      },
      "execution_count": 235,
      "outputs": [
        {
          "output_type": "stream",
          "name": "stdout",
          "text": [
            "0.565604810977191\n",
            "[[1501 1403]\n",
            " [1244 1688]]\n",
            "              precision    recall  f1-score   support\n",
            "\n",
            "           0       0.55      0.52      0.53      2904\n",
            "           1       0.55      0.58      0.56      2932\n",
            "\n",
            "    accuracy                           0.55      5836\n",
            "   macro avg       0.55      0.55      0.55      5836\n",
            "weighted avg       0.55      0.55      0.55      5836\n",
            "\n",
            "0.6868483734828436\n"
          ]
        }
      ]
    },
    {
      "cell_type": "code",
      "source": [
        "random_roc_auc = roc_auc_score(y_test, y_proba_rf[:,1])\n",
        "auc = round(metrics.roc_auc_score(y_test,y_pred_rf), 4)\n",
        "fpr, tpr, thresholds = roc_curve(y_test, y_proba_rf[:,1])\n",
        "plt.plot(fpr,tpr,label=\"Random Forest , AUC=\"+str(auc))\n",
        "plt.legend"
      ],
      "metadata": {
        "id": "2iKTzV8p6RsG",
        "outputId": "91d25787-b31f-458c-f932-c6c141d61f9c",
        "colab": {
          "base_uri": "https://localhost:8080/",
          "height": 282
        }
      },
      "execution_count": 232,
      "outputs": [
        {
          "output_type": "execute_result",
          "data": {
            "text/plain": [
              "<function matplotlib.pyplot.legend(*args, **kwargs)>"
            ]
          },
          "metadata": {},
          "execution_count": 232
        },
        {
          "output_type": "display_data",
          "data": {
            "text/plain": [
              "<Figure size 432x288 with 1 Axes>"
            ],
            "image/png": "[encoded data removed]"
          },
          "metadata": {
            "needs_background": "light"
          }
        }
      ]
    },
    {
      "cell_type": "code",
      "source": [
        "roc_auc_score(y_test, random_forest.predict(X_test))"
      ],
      "metadata": {
        "id": "6VnawByB_pGS",
        "outputId": "21cde855-b52c-4e3c-aeaa-4bf426da5030",
        "colab": {
          "base_uri": "https://localhost:8080/"
        }
      },
      "execution_count": 234,
      "outputs": [
        {
          "output_type": "execute_result",
          "data": {
            "text/plain": [
              "0.5462947564445145"
            ]
          },
          "metadata": {},
          "execution_count": 234
        }
      ]
    },
    {
      "cell_type": "markdown",
      "source": [
        "Prelim ANN"
      ],
      "metadata": {
        "id": "PheJrpg5jPUx"
      }
    },
    {
      "cell_type": "code",
      "source": [
        "MLPC_model = MLPClassifier(hidden_layer_sizes=1000, activation='logistic', solver='adam', random_state=1)\n",
        "MLPC_model.fit(X_train, y_train)\n",
        "y_pred_mlpc = MLPC_model.predict(X_test)"
      ],
      "metadata": {
        "id": "L8vomOxwjTOR"
      },
      "execution_count": 61,
      "outputs": []
    },
    {
      "cell_type": "code",
      "source": [
        "print(confusion_matrix(y_test,y_pred_mlpc))\n",
        "print(classification_report(y_test,y_pred_mlpc))\n",
        "print(roc_auc_score(y_test,y_pred_mlpc))\n",
        "print(log_loss(y_test,y_pred_mlpc))"
      ],
      "metadata": {
        "colab": {
          "base_uri": "https://localhost:8080/"
        },
        "id": "bkAunZ9WkKMp",
        "outputId": "79d9c871-611d-4b57-d88b-2a7843a5d194"
      },
      "execution_count": 62,
      "outputs": [
        {
          "output_type": "stream",
          "name": "stdout",
          "text": [
            "[[2159  745]\n",
            " [1957  975]]\n",
            "              precision    recall  f1-score   support\n",
            "\n",
            "           0       0.52      0.74      0.62      2904\n",
            "           1       0.57      0.33      0.42      2932\n",
            "\n",
            "    accuracy                           0.54      5836\n",
            "   macro avg       0.55      0.54      0.52      5836\n",
            "weighted avg       0.55      0.54      0.52      5836\n",
            "\n",
            "0.537997408664344\n",
            "15.991153104717986\n"
          ]
        }
      ]
    },
    {
      "cell_type": "markdown",
      "source": [
        "ANN Goin In"
      ],
      "metadata": {
        "id": "5ANGlAbhl2hG"
      }
    },
    {
      "cell_type": "code",
      "source": [
        "import tensorflow as tf\n",
        "from tensorflow.keras.models import Sequential\n",
        "from tensorflow.keras.layers import Dense,Activation,Dropout"
      ],
      "metadata": {
        "id": "4S1VHg9Nl6Ty"
      },
      "execution_count": 63,
      "outputs": []
    },
    {
      "cell_type": "code",
      "source": [
        "model = Sequential()\n",
        "model.add(Dense(units=30,activation='relu'))\n",
        "model.add(Dense(units=15,activation='relu'))\n",
        "model.add(Dense(units=1,activation='sigmoid'))\n",
        "model.compile(loss='binary_crossentropy', optimizer='adam')"
      ],
      "metadata": {
        "id": "B1krxVngzNvR"
      },
      "execution_count": 64,
      "outputs": []
    },
    {
      "cell_type": "code",
      "source": [
        "model.fit(x=X_train, \n",
        "          y=y_train,\n",
        "          batch_size=128, \n",
        "          epochs=100,\n",
        "          validation_data=(X_test, y_test), verbose=1\n",
        "          )"
      ],
      "metadata": {
        "colab": {
          "base_uri": "https://localhost:8080/"
        },
        "id": "inueVfjTze4o",
        "outputId": "71025384-09c7-498c-b45c-a1127674c826"
      },
      "execution_count": 65,
      "outputs": [
        {
          "output_type": "stream",
          "name": "stdout",
          "text": [
            "Epoch 1/100\n",
            "107/107 [==============================] - 1s 5ms/step - loss: 0.6880 - val_loss: 0.6879\n",
            "Epoch 2/100\n",
            "107/107 [==============================] - 0s 3ms/step - loss: 0.6857 - val_loss: 0.6868\n",
            "Epoch 3/100\n",
            "107/107 [==============================] - 0s 3ms/step - loss: 0.6847 - val_loss: 0.6866\n",
            "Epoch 4/100\n",
            "107/107 [==============================] - 0s 3ms/step - loss: 0.6847 - val_loss: 0.6865\n",
            "Epoch 5/100\n",
            "107/107 [==============================] - 0s 3ms/step - loss: 0.6839 - val_loss: 0.6903\n",
            "Epoch 6/100\n",
            "107/107 [==============================] - 0s 3ms/step - loss: 0.6838 - val_loss: 0.6863\n",
            "Epoch 7/100\n",
            "107/107 [==============================] - 0s 3ms/step - loss: 0.6832 - val_loss: 0.6865\n",
            "Epoch 8/100\n",
            "107/107 [==============================] - 0s 3ms/step - loss: 0.6833 - val_loss: 0.6865\n",
            "Epoch 9/100\n",
            "107/107 [==============================] - 0s 3ms/step - loss: 0.6832 - val_loss: 0.6865\n",
            "Epoch 10/100\n",
            "107/107 [==============================] - 0s 3ms/step - loss: 0.6830 - val_loss: 0.6869\n",
            "Epoch 11/100\n",
            "107/107 [==============================] - 0s 3ms/step - loss: 0.6833 - val_loss: 0.6866\n",
            "Epoch 12/100\n",
            "107/107 [==============================] - 0s 3ms/step - loss: 0.6829 - val_loss: 0.6883\n",
            "Epoch 13/100\n",
            "107/107 [==============================] - 0s 3ms/step - loss: 0.6832 - val_loss: 0.6865\n",
            "Epoch 14/100\n",
            "107/107 [==============================] - 0s 3ms/step - loss: 0.6829 - val_loss: 0.6865\n",
            "Epoch 15/100\n",
            "107/107 [==============================] - 0s 3ms/step - loss: 0.6832 - val_loss: 0.6863\n",
            "Epoch 16/100\n",
            "107/107 [==============================] - 0s 3ms/step - loss: 0.6826 - val_loss: 0.6864\n",
            "Epoch 17/100\n",
            "107/107 [==============================] - 0s 3ms/step - loss: 0.6828 - val_loss: 0.6867\n",
            "Epoch 18/100\n",
            "107/107 [==============================] - 0s 3ms/step - loss: 0.6829 - val_loss: 0.6865\n",
            "Epoch 19/100\n",
            "107/107 [==============================] - 0s 2ms/step - loss: 0.6829 - val_loss: 0.6864\n",
            "Epoch 20/100\n",
            "107/107 [==============================] - 0s 3ms/step - loss: 0.6830 - val_loss: 0.6864\n",
            "Epoch 21/100\n",
            "107/107 [==============================] - 0s 3ms/step - loss: 0.6826 - val_loss: 0.6866\n",
            "Epoch 22/100\n",
            "107/107 [==============================] - 0s 3ms/step - loss: 0.6824 - val_loss: 0.6876\n",
            "Epoch 23/100\n",
            "107/107 [==============================] - 0s 3ms/step - loss: 0.6825 - val_loss: 0.6864\n",
            "Epoch 24/100\n",
            "107/107 [==============================] - 0s 3ms/step - loss: 0.6824 - val_loss: 0.6872\n",
            "Epoch 25/100\n",
            "107/107 [==============================] - 0s 3ms/step - loss: 0.6822 - val_loss: 0.6875\n",
            "Epoch 26/100\n",
            "107/107 [==============================] - 0s 3ms/step - loss: 0.6825 - val_loss: 0.6869\n",
            "Epoch 27/100\n",
            "107/107 [==============================] - 0s 2ms/step - loss: 0.6827 - val_loss: 0.6867\n",
            "Epoch 28/100\n",
            "107/107 [==============================] - 0s 3ms/step - loss: 0.6824 - val_loss: 0.6875\n",
            "Epoch 29/100\n",
            "107/107 [==============================] - 0s 3ms/step - loss: 0.6821 - val_loss: 0.6865\n",
            "Epoch 30/100\n",
            "107/107 [==============================] - 0s 3ms/step - loss: 0.6823 - val_loss: 0.6868\n",
            "Epoch 31/100\n",
            "107/107 [==============================] - 0s 3ms/step - loss: 0.6821 - val_loss: 0.6867\n",
            "Epoch 32/100\n",
            "107/107 [==============================] - 0s 3ms/step - loss: 0.6822 - val_loss: 0.6870\n",
            "Epoch 33/100\n",
            "107/107 [==============================] - 0s 3ms/step - loss: 0.6820 - val_loss: 0.6873\n",
            "Epoch 34/100\n",
            "107/107 [==============================] - 0s 3ms/step - loss: 0.6817 - val_loss: 0.6864\n",
            "Epoch 35/100\n",
            "107/107 [==============================] - 0s 3ms/step - loss: 0.6821 - val_loss: 0.6875\n",
            "Epoch 36/100\n",
            "107/107 [==============================] - 0s 3ms/step - loss: 0.6824 - val_loss: 0.6880\n",
            "Epoch 37/100\n",
            "107/107 [==============================] - 0s 3ms/step - loss: 0.6823 - val_loss: 0.6862\n",
            "Epoch 38/100\n",
            "107/107 [==============================] - 0s 3ms/step - loss: 0.6816 - val_loss: 0.6868\n",
            "Epoch 39/100\n",
            "107/107 [==============================] - 0s 3ms/step - loss: 0.6821 - val_loss: 0.6869\n",
            "Epoch 40/100\n",
            "107/107 [==============================] - 0s 3ms/step - loss: 0.6816 - val_loss: 0.6890\n",
            "Epoch 41/100\n",
            "107/107 [==============================] - 0s 2ms/step - loss: 0.6816 - val_loss: 0.6866\n",
            "Epoch 42/100\n",
            "107/107 [==============================] - 0s 3ms/step - loss: 0.6818 - val_loss: 0.6866\n",
            "Epoch 43/100\n",
            "107/107 [==============================] - 0s 3ms/step - loss: 0.6818 - val_loss: 0.6863\n",
            "Epoch 44/100\n",
            "107/107 [==============================] - 0s 3ms/step - loss: 0.6819 - val_loss: 0.6866\n",
            "Epoch 45/100\n",
            "107/107 [==============================] - 0s 3ms/step - loss: 0.6815 - val_loss: 0.6863\n",
            "Epoch 46/100\n",
            "107/107 [==============================] - 0s 3ms/step - loss: 0.6812 - val_loss: 0.6866\n",
            "Epoch 47/100\n",
            "107/107 [==============================] - 0s 3ms/step - loss: 0.6814 - val_loss: 0.6867\n",
            "Epoch 48/100\n",
            "107/107 [==============================] - 0s 3ms/step - loss: 0.6812 - val_loss: 0.6873\n",
            "Epoch 49/100\n",
            "107/107 [==============================] - 0s 3ms/step - loss: 0.6817 - val_loss: 0.6871\n",
            "Epoch 50/100\n",
            "107/107 [==============================] - 0s 3ms/step - loss: 0.6814 - val_loss: 0.6869\n",
            "Epoch 51/100\n",
            "107/107 [==============================] - 0s 3ms/step - loss: 0.6812 - val_loss: 0.6868\n",
            "Epoch 52/100\n",
            "107/107 [==============================] - 0s 3ms/step - loss: 0.6816 - val_loss: 0.6870\n",
            "Epoch 53/100\n",
            "107/107 [==============================] - 0s 3ms/step - loss: 0.6811 - val_loss: 0.6870\n",
            "Epoch 54/100\n",
            "107/107 [==============================] - 0s 3ms/step - loss: 0.6811 - val_loss: 0.6874\n",
            "Epoch 55/100\n",
            "107/107 [==============================] - 0s 3ms/step - loss: 0.6818 - val_loss: 0.6866\n",
            "Epoch 56/100\n",
            "107/107 [==============================] - 0s 3ms/step - loss: 0.6809 - val_loss: 0.6865\n",
            "Epoch 57/100\n",
            "107/107 [==============================] - 0s 3ms/step - loss: 0.6811 - val_loss: 0.6871\n",
            "Epoch 58/100\n",
            "107/107 [==============================] - 0s 3ms/step - loss: 0.6810 - val_loss: 0.6872\n",
            "Epoch 59/100\n",
            "107/107 [==============================] - 0s 2ms/step - loss: 0.6809 - val_loss: 0.6872\n",
            "Epoch 60/100\n",
            "107/107 [==============================] - 0s 3ms/step - loss: 0.6810 - val_loss: 0.6881\n",
            "Epoch 61/100\n",
            "107/107 [==============================] - 0s 3ms/step - loss: 0.6807 - val_loss: 0.6876\n",
            "Epoch 62/100\n",
            "107/107 [==============================] - 0s 3ms/step - loss: 0.6809 - val_loss: 0.6873\n",
            "Epoch 63/100\n",
            "107/107 [==============================] - 0s 3ms/step - loss: 0.6811 - val_loss: 0.6871\n",
            "Epoch 64/100\n",
            "107/107 [==============================] - 0s 3ms/step - loss: 0.6804 - val_loss: 0.6878\n",
            "Epoch 65/100\n",
            "107/107 [==============================] - 0s 3ms/step - loss: 0.6805 - val_loss: 0.6875\n",
            "Epoch 66/100\n",
            "107/107 [==============================] - 0s 3ms/step - loss: 0.6807 - val_loss: 0.6872\n",
            "Epoch 67/100\n",
            "107/107 [==============================] - 0s 3ms/step - loss: 0.6808 - val_loss: 0.6882\n",
            "Epoch 68/100\n",
            "107/107 [==============================] - 0s 3ms/step - loss: 0.6801 - val_loss: 0.6872\n",
            "Epoch 69/100\n",
            "107/107 [==============================] - 0s 3ms/step - loss: 0.6801 - val_loss: 0.6882\n",
            "Epoch 70/100\n",
            "107/107 [==============================] - 0s 3ms/step - loss: 0.6806 - val_loss: 0.6883\n",
            "Epoch 71/100\n",
            "107/107 [==============================] - 0s 3ms/step - loss: 0.6805 - val_loss: 0.6882\n",
            "Epoch 72/100\n",
            "107/107 [==============================] - 0s 2ms/step - loss: 0.6806 - val_loss: 0.6871\n",
            "Epoch 73/100\n",
            "107/107 [==============================] - 0s 3ms/step - loss: 0.6806 - val_loss: 0.6901\n",
            "Epoch 74/100\n",
            "107/107 [==============================] - 0s 3ms/step - loss: 0.6807 - val_loss: 0.6872\n",
            "Epoch 75/100\n",
            "107/107 [==============================] - 0s 3ms/step - loss: 0.6799 - val_loss: 0.6877\n",
            "Epoch 76/100\n",
            "107/107 [==============================] - 0s 3ms/step - loss: 0.6800 - val_loss: 0.6893\n",
            "Epoch 77/100\n",
            "107/107 [==============================] - 0s 3ms/step - loss: 0.6799 - val_loss: 0.6869\n",
            "Epoch 78/100\n",
            "107/107 [==============================] - 0s 3ms/step - loss: 0.6799 - val_loss: 0.6882\n",
            "Epoch 79/100\n",
            "107/107 [==============================] - 0s 3ms/step - loss: 0.6800 - val_loss: 0.6874\n",
            "Epoch 80/100\n",
            "107/107 [==============================] - 0s 3ms/step - loss: 0.6799 - val_loss: 0.6882\n",
            "Epoch 81/100\n",
            "107/107 [==============================] - 0s 3ms/step - loss: 0.6801 - val_loss: 0.6878\n",
            "Epoch 82/100\n",
            "107/107 [==============================] - 0s 3ms/step - loss: 0.6801 - val_loss: 0.6875\n",
            "Epoch 83/100\n",
            "107/107 [==============================] - 0s 3ms/step - loss: 0.6801 - val_loss: 0.6887\n",
            "Epoch 84/100\n",
            "107/107 [==============================] - 0s 3ms/step - loss: 0.6796 - val_loss: 0.6874\n",
            "Epoch 85/100\n",
            "107/107 [==============================] - 0s 3ms/step - loss: 0.6801 - val_loss: 0.6872\n",
            "Epoch 86/100\n",
            "107/107 [==============================] - 0s 3ms/step - loss: 0.6798 - val_loss: 0.6873\n",
            "Epoch 87/100\n",
            "107/107 [==============================] - 0s 3ms/step - loss: 0.6796 - val_loss: 0.6877\n",
            "Epoch 88/100\n",
            "107/107 [==============================] - 0s 3ms/step - loss: 0.6795 - val_loss: 0.6879\n",
            "Epoch 89/100\n",
            "107/107 [==============================] - 0s 3ms/step - loss: 0.6793 - val_loss: 0.6877\n",
            "Epoch 90/100\n",
            "107/107 [==============================] - 0s 3ms/step - loss: 0.6798 - val_loss: 0.6879\n",
            "Epoch 91/100\n",
            "107/107 [==============================] - 0s 2ms/step - loss: 0.6794 - val_loss: 0.6875\n",
            "Epoch 92/100\n",
            "107/107 [==============================] - 0s 3ms/step - loss: 0.6794 - val_loss: 0.6878\n",
            "Epoch 93/100\n",
            "107/107 [==============================] - 0s 3ms/step - loss: 0.6794 - val_loss: 0.6874\n",
            "Epoch 94/100\n",
            "107/107 [==============================] - 0s 3ms/step - loss: 0.6797 - val_loss: 0.6876\n",
            "Epoch 95/100\n",
            "107/107 [==============================] - 0s 3ms/step - loss: 0.6792 - val_loss: 0.6880\n",
            "Epoch 96/100\n",
            "107/107 [==============================] - 0s 3ms/step - loss: 0.6794 - val_loss: 0.6877\n",
            "Epoch 97/100\n",
            "107/107 [==============================] - 0s 3ms/step - loss: 0.6791 - val_loss: 0.6874\n",
            "Epoch 98/100\n",
            "107/107 [==============================] - 0s 3ms/step - loss: 0.6791 - val_loss: 0.6889\n",
            "Epoch 99/100\n",
            "107/107 [==============================] - 0s 3ms/step - loss: 0.6794 - val_loss: 0.6880\n",
            "Epoch 100/100\n",
            "107/107 [==============================] - 0s 3ms/step - loss: 0.6791 - val_loss: 0.6882\n"
          ]
        },
        {
          "output_type": "execute_result",
          "data": {
            "text/plain": [
              "<keras.callbacks.History at 0x7efd6d882400>"
            ]
          },
          "metadata": {},
          "execution_count": 65
        }
      ]
    },
    {
      "cell_type": "code",
      "source": [
        "model_loss = pd.DataFrame(model.history.history)\n",
        "model_loss.plot()"
      ],
      "metadata": {
        "colab": {
          "base_uri": "https://localhost:8080/",
          "height": 329
        },
        "id": "6G52BpKJzyR-",
        "outputId": "1234492c-29c0-44f3-9140-4d58b897fe13"
      },
      "execution_count": 161,
      "outputs": [
        {
          "output_type": "error",
          "ename": "TypeError",
          "evalue": "ignored",
          "traceback": [
            "\u001b[0;31m---------------------------------------------------------------------------\u001b[0m",
            "\u001b[0;31mTypeError\u001b[0m                                 Traceback (most recent call last)",
            "\u001b[0;32m<ipython-input-161-dd94a6926206>\u001b[0m in \u001b[0;36m<module>\u001b[0;34m\u001b[0m\n\u001b[1;32m      1\u001b[0m \u001b[0mmodel_loss\u001b[0m \u001b[0;34m=\u001b[0m \u001b[0mpd\u001b[0m\u001b[0;34m.\u001b[0m\u001b[0mDataFrame\u001b[0m\u001b[0;34m(\u001b[0m\u001b[0mmodel\u001b[0m\u001b[0;34m.\u001b[0m\u001b[0mhistory\u001b[0m\u001b[0;34m.\u001b[0m\u001b[0mhistory\u001b[0m\u001b[0;34m)\u001b[0m\u001b[0;34m\u001b[0m\u001b[0;34m\u001b[0m\u001b[0m\n\u001b[0;32m----> 2\u001b[0;31m \u001b[0mmodel_loss\u001b[0m\u001b[0;34m.\u001b[0m\u001b[0mplot\u001b[0m\u001b[0;34m(\u001b[0m\u001b[0;34m)\u001b[0m\u001b[0;34m\u001b[0m\u001b[0;34m\u001b[0m\u001b[0m\n\u001b[0m",
            "\u001b[0;32m/usr/local/lib/python3.8/dist-packages/pandas/plotting/_core.py\u001b[0m in \u001b[0;36m__call__\u001b[0;34m(self, *args, **kwargs)\u001b[0m\n\u001b[1;32m    970\u001b[0m                     \u001b[0mdata\u001b[0m\u001b[0;34m.\u001b[0m\u001b[0mcolumns\u001b[0m \u001b[0;34m=\u001b[0m \u001b[0mlabel_name\u001b[0m\u001b[0;34m\u001b[0m\u001b[0;34m\u001b[0m\u001b[0m\n\u001b[1;32m    971\u001b[0m \u001b[0;34m\u001b[0m\u001b[0m\n\u001b[0;32m--> 972\u001b[0;31m         \u001b[0;32mreturn\u001b[0m \u001b[0mplot_backend\u001b[0m\u001b[0;34m.\u001b[0m\u001b[0mplot\u001b[0m\u001b[0;34m(\u001b[0m\u001b[0mdata\u001b[0m\u001b[0;34m,\u001b[0m \u001b[0mkind\u001b[0m\u001b[0;34m=\u001b[0m\u001b[0mkind\u001b[0m\u001b[0;34m,\u001b[0m \u001b[0;34m**\u001b[0m\u001b[0mkwargs\u001b[0m\u001b[0;34m)\u001b[0m\u001b[0;34m\u001b[0m\u001b[0;34m\u001b[0m\u001b[0m\n\u001b[0m\u001b[1;32m    973\u001b[0m \u001b[0;34m\u001b[0m\u001b[0m\n\u001b[1;32m    974\u001b[0m     \u001b[0m__call__\u001b[0m\u001b[0;34m.\u001b[0m\u001b[0m__doc__\u001b[0m \u001b[0;34m=\u001b[0m \u001b[0m__doc__\u001b[0m\u001b[0;34m\u001b[0m\u001b[0;34m\u001b[0m\u001b[0m\n",
            "\u001b[0;32m/usr/local/lib/python3.8/dist-packages/pandas/plotting/_matplotlib/__init__.py\u001b[0m in \u001b[0;36mplot\u001b[0;34m(data, kind, **kwargs)\u001b[0m\n\u001b[1;32m     69\u001b[0m             \u001b[0mkwargs\u001b[0m\u001b[0;34m[\u001b[0m\u001b[0;34m\"ax\"\u001b[0m\u001b[0;34m]\u001b[0m \u001b[0;34m=\u001b[0m \u001b[0mgetattr\u001b[0m\u001b[0;34m(\u001b[0m\u001b[0max\u001b[0m\u001b[0;34m,\u001b[0m \u001b[0;34m\"left_ax\"\u001b[0m\u001b[0;34m,\u001b[0m \u001b[0max\u001b[0m\u001b[0;34m)\u001b[0m\u001b[0;34m\u001b[0m\u001b[0;34m\u001b[0m\u001b[0m\n\u001b[1;32m     70\u001b[0m     \u001b[0mplot_obj\u001b[0m \u001b[0;34m=\u001b[0m \u001b[0mPLOT_CLASSES\u001b[0m\u001b[0;34m[\u001b[0m\u001b[0mkind\u001b[0m\u001b[0;34m]\u001b[0m\u001b[0;34m(\u001b[0m\u001b[0mdata\u001b[0m\u001b[0;34m,\u001b[0m \u001b[0;34m**\u001b[0m\u001b[0mkwargs\u001b[0m\u001b[0;34m)\u001b[0m\u001b[0;34m\u001b[0m\u001b[0;34m\u001b[0m\u001b[0m\n\u001b[0;32m---> 71\u001b[0;31m     \u001b[0mplot_obj\u001b[0m\u001b[0;34m.\u001b[0m\u001b[0mgenerate\u001b[0m\u001b[0;34m(\u001b[0m\u001b[0;34m)\u001b[0m\u001b[0;34m\u001b[0m\u001b[0;34m\u001b[0m\u001b[0m\n\u001b[0m\u001b[1;32m     72\u001b[0m     \u001b[0mplot_obj\u001b[0m\u001b[0;34m.\u001b[0m\u001b[0mdraw\u001b[0m\u001b[0;34m(\u001b[0m\u001b[0;34m)\u001b[0m\u001b[0;34m\u001b[0m\u001b[0;34m\u001b[0m\u001b[0m\n\u001b[1;32m     73\u001b[0m     \u001b[0;32mreturn\u001b[0m \u001b[0mplot_obj\u001b[0m\u001b[0;34m.\u001b[0m\u001b[0mresult\u001b[0m\u001b[0;34m\u001b[0m\u001b[0;34m\u001b[0m\u001b[0m\n",
            "\u001b[0;32m/usr/local/lib/python3.8/dist-packages/pandas/plotting/_matplotlib/core.py\u001b[0m in \u001b[0;36mgenerate\u001b[0;34m(self)\u001b[0m\n\u001b[1;32m    284\u001b[0m     \u001b[0;32mdef\u001b[0m \u001b[0mgenerate\u001b[0m\u001b[0;34m(\u001b[0m\u001b[0mself\u001b[0m\u001b[0;34m)\u001b[0m\u001b[0;34m:\u001b[0m\u001b[0;34m\u001b[0m\u001b[0;34m\u001b[0m\u001b[0m\n\u001b[1;32m    285\u001b[0m         \u001b[0mself\u001b[0m\u001b[0;34m.\u001b[0m\u001b[0m_args_adjust\u001b[0m\u001b[0;34m(\u001b[0m\u001b[0;34m)\u001b[0m\u001b[0;34m\u001b[0m\u001b[0;34m\u001b[0m\u001b[0m\n\u001b[0;32m--> 286\u001b[0;31m         \u001b[0mself\u001b[0m\u001b[0;34m.\u001b[0m\u001b[0m_compute_plot_data\u001b[0m\u001b[0;34m(\u001b[0m\u001b[0;34m)\u001b[0m\u001b[0;34m\u001b[0m\u001b[0;34m\u001b[0m\u001b[0m\n\u001b[0m\u001b[1;32m    287\u001b[0m         \u001b[0mself\u001b[0m\u001b[0;34m.\u001b[0m\u001b[0m_setup_subplots\u001b[0m\u001b[0;34m(\u001b[0m\u001b[0;34m)\u001b[0m\u001b[0;34m\u001b[0m\u001b[0;34m\u001b[0m\u001b[0m\n\u001b[1;32m    288\u001b[0m         \u001b[0mself\u001b[0m\u001b[0;34m.\u001b[0m\u001b[0m_make_plot\u001b[0m\u001b[0;34m(\u001b[0m\u001b[0;34m)\u001b[0m\u001b[0;34m\u001b[0m\u001b[0;34m\u001b[0m\u001b[0m\n",
            "\u001b[0;32m/usr/local/lib/python3.8/dist-packages/pandas/plotting/_matplotlib/core.py\u001b[0m in \u001b[0;36m_compute_plot_data\u001b[0;34m(self)\u001b[0m\n\u001b[1;32m    451\u001b[0m         \u001b[0;31m# no non-numeric frames or series allowed\u001b[0m\u001b[0;34m\u001b[0m\u001b[0;34m\u001b[0m\u001b[0;34m\u001b[0m\u001b[0m\n\u001b[1;32m    452\u001b[0m         \u001b[0;32mif\u001b[0m \u001b[0mis_empty\u001b[0m\u001b[0;34m:\u001b[0m\u001b[0;34m\u001b[0m\u001b[0;34m\u001b[0m\u001b[0m\n\u001b[0;32m--> 453\u001b[0;31m             \u001b[0;32mraise\u001b[0m \u001b[0mTypeError\u001b[0m\u001b[0;34m(\u001b[0m\u001b[0;34m\"no numeric data to plot\"\u001b[0m\u001b[0;34m)\u001b[0m\u001b[0;34m\u001b[0m\u001b[0;34m\u001b[0m\u001b[0m\n\u001b[0m\u001b[1;32m    454\u001b[0m \u001b[0;34m\u001b[0m\u001b[0m\n\u001b[1;32m    455\u001b[0m         \u001b[0mself\u001b[0m\u001b[0;34m.\u001b[0m\u001b[0mdata\u001b[0m \u001b[0;34m=\u001b[0m \u001b[0mnumeric_data\u001b[0m\u001b[0;34m.\u001b[0m\u001b[0mapply\u001b[0m\u001b[0;34m(\u001b[0m\u001b[0mself\u001b[0m\u001b[0;34m.\u001b[0m\u001b[0m_convert_to_ndarray\u001b[0m\u001b[0;34m)\u001b[0m\u001b[0;34m\u001b[0m\u001b[0;34m\u001b[0m\u001b[0m\n",
            "\u001b[0;31mTypeError\u001b[0m: no numeric data to plot"
          ]
        }
      ]
    },
    {
      "cell_type": "code",
      "source": [
        "from tensorflow.keras.layers import Dropout\n",
        "from tensorflow.keras.callbacks import EarlyStopping\n",
        "early_stop = EarlyStopping(monitor='val_loss', mode='min', verbose=1, patience=5)"
      ],
      "metadata": {
        "id": "DLy5JB3Az_gF"
      },
      "execution_count": 160,
      "outputs": []
    },
    {
      "cell_type": "code",
      "source": [
        "model = Sequential()\n",
        "model.add(Dense(units=30,activation='relu'))\n",
        "model.add(Dropout(0.5))\n",
        "\n",
        "model.add(Dense(units=15,activation='relu'))\n",
        "model.add(Dropout(0.5))\n",
        "\n",
        "model.add(Dense(units=1,activation='sigmoid'))\n",
        "model.compile(loss='binary_crossentropy', optimizer='adam')"
      ],
      "metadata": {
        "id": "vE50FxTo0L6-"
      },
      "execution_count": 68,
      "outputs": []
    },
    {
      "cell_type": "code",
      "source": [
        "model.fit(x=X_train, \n",
        "          y=y_train, \n",
        "          batch_size=128,\n",
        "          epochs=200,\n",
        "          validation_data=(X_test, y_test), verbose=1,\n",
        "          callbacks=[early_stop]\n",
        "          )"
      ],
      "metadata": {
        "colab": {
          "base_uri": "https://localhost:8080/"
        },
        "id": "2zAphfh70QT7",
        "outputId": "fd9d29c9-36c5-4d42-d8c0-2cf337a6ed9f"
      },
      "execution_count": 69,
      "outputs": [
        {
          "output_type": "stream",
          "name": "stdout",
          "text": [
            "Epoch 1/200\n",
            "107/107 [==============================] - 1s 4ms/step - loss: 0.7106 - val_loss: 0.6908\n",
            "Epoch 2/200\n",
            "107/107 [==============================] - 0s 3ms/step - loss: 0.6912 - val_loss: 0.6892\n",
            "Epoch 3/200\n",
            "107/107 [==============================] - 0s 3ms/step - loss: 0.6900 - val_loss: 0.6904\n",
            "Epoch 4/200\n",
            "107/107 [==============================] - 0s 3ms/step - loss: 0.6902 - val_loss: 0.6893\n",
            "Epoch 5/200\n",
            "107/107 [==============================] - 0s 3ms/step - loss: 0.6895 - val_loss: 0.6889\n",
            "Epoch 6/200\n",
            "107/107 [==============================] - 0s 3ms/step - loss: 0.6896 - val_loss: 0.6891\n",
            "Epoch 7/200\n",
            "107/107 [==============================] - 0s 3ms/step - loss: 0.6895 - val_loss: 0.6882\n",
            "Epoch 8/200\n",
            "107/107 [==============================] - 0s 3ms/step - loss: 0.6882 - val_loss: 0.6887\n",
            "Epoch 9/200\n",
            "107/107 [==============================] - 0s 3ms/step - loss: 0.6890 - val_loss: 0.6888\n",
            "Epoch 10/200\n",
            "107/107 [==============================] - 0s 3ms/step - loss: 0.6891 - val_loss: 0.6883\n",
            "Epoch 11/200\n",
            "107/107 [==============================] - 0s 3ms/step - loss: 0.6890 - val_loss: 0.6875\n",
            "Epoch 12/200\n",
            "107/107 [==============================] - 0s 3ms/step - loss: 0.6880 - val_loss: 0.6885\n",
            "Epoch 13/200\n",
            "107/107 [==============================] - 0s 3ms/step - loss: 0.6888 - val_loss: 0.6875\n",
            "Epoch 14/200\n",
            "107/107 [==============================] - 0s 3ms/step - loss: 0.6883 - val_loss: 0.6877\n",
            "Epoch 15/200\n",
            "107/107 [==============================] - 0s 3ms/step - loss: 0.6865 - val_loss: 0.6874\n",
            "Epoch 16/200\n",
            "107/107 [==============================] - 0s 4ms/step - loss: 0.6875 - val_loss: 0.6873\n",
            "Epoch 17/200\n",
            "107/107 [==============================] - 0s 3ms/step - loss: 0.6878 - val_loss: 0.6873\n",
            "Epoch 18/200\n",
            "107/107 [==============================] - 0s 3ms/step - loss: 0.6879 - val_loss: 0.6871\n",
            "Epoch 19/200\n",
            "107/107 [==============================] - 0s 3ms/step - loss: 0.6874 - val_loss: 0.6873\n",
            "Epoch 20/200\n",
            "107/107 [==============================] - 0s 3ms/step - loss: 0.6877 - val_loss: 0.6870\n",
            "Epoch 21/200\n",
            "107/107 [==============================] - 0s 3ms/step - loss: 0.6877 - val_loss: 0.6879\n",
            "Epoch 22/200\n",
            "107/107 [==============================] - 0s 3ms/step - loss: 0.6863 - val_loss: 0.6864\n",
            "Epoch 23/200\n",
            "107/107 [==============================] - 0s 3ms/step - loss: 0.6873 - val_loss: 0.6873\n",
            "Epoch 24/200\n",
            "107/107 [==============================] - 0s 3ms/step - loss: 0.6863 - val_loss: 0.6876\n",
            "Epoch 25/200\n",
            "107/107 [==============================] - 0s 3ms/step - loss: 0.6871 - val_loss: 0.6876\n",
            "Epoch 26/200\n",
            "107/107 [==============================] - 0s 3ms/step - loss: 0.6868 - val_loss: 0.6871\n",
            "Epoch 27/200\n",
            "107/107 [==============================] - 0s 3ms/step - loss: 0.6868 - val_loss: 0.6872\n",
            "Epoch 27: early stopping\n"
          ]
        },
        {
          "output_type": "execute_result",
          "data": {
            "text/plain": [
              "<keras.callbacks.History at 0x7efd6d7c3460>"
            ]
          },
          "metadata": {},
          "execution_count": 69
        }
      ]
    },
    {
      "cell_type": "code",
      "source": [
        "model_loss = pd.DataFrame(model.history.history)\n",
        "model_loss.plot()"
      ],
      "metadata": {
        "colab": {
          "base_uri": "https://localhost:8080/",
          "height": 329
        },
        "id": "VG4iXEXd0qXh",
        "outputId": "7583d5e6-f94f-40e5-92f1-e37bb4a045d0"
      },
      "execution_count": 159,
      "outputs": [
        {
          "output_type": "error",
          "ename": "TypeError",
          "evalue": "ignored",
          "traceback": [
            "\u001b[0;31m---------------------------------------------------------------------------\u001b[0m",
            "\u001b[0;31mTypeError\u001b[0m                                 Traceback (most recent call last)",
            "\u001b[0;32m<ipython-input-159-dd94a6926206>\u001b[0m in \u001b[0;36m<module>\u001b[0;34m\u001b[0m\n\u001b[1;32m      1\u001b[0m \u001b[0mmodel_loss\u001b[0m \u001b[0;34m=\u001b[0m \u001b[0mpd\u001b[0m\u001b[0;34m.\u001b[0m\u001b[0mDataFrame\u001b[0m\u001b[0;34m(\u001b[0m\u001b[0mmodel\u001b[0m\u001b[0;34m.\u001b[0m\u001b[0mhistory\u001b[0m\u001b[0;34m.\u001b[0m\u001b[0mhistory\u001b[0m\u001b[0;34m)\u001b[0m\u001b[0;34m\u001b[0m\u001b[0;34m\u001b[0m\u001b[0m\n\u001b[0;32m----> 2\u001b[0;31m \u001b[0mmodel_loss\u001b[0m\u001b[0;34m.\u001b[0m\u001b[0mplot\u001b[0m\u001b[0;34m(\u001b[0m\u001b[0;34m)\u001b[0m\u001b[0;34m\u001b[0m\u001b[0;34m\u001b[0m\u001b[0m\n\u001b[0m",
            "\u001b[0;32m/usr/local/lib/python3.8/dist-packages/pandas/plotting/_core.py\u001b[0m in \u001b[0;36m__call__\u001b[0;34m(self, *args, **kwargs)\u001b[0m\n\u001b[1;32m    970\u001b[0m                     \u001b[0mdata\u001b[0m\u001b[0;34m.\u001b[0m\u001b[0mcolumns\u001b[0m \u001b[0;34m=\u001b[0m \u001b[0mlabel_name\u001b[0m\u001b[0;34m\u001b[0m\u001b[0;34m\u001b[0m\u001b[0m\n\u001b[1;32m    971\u001b[0m \u001b[0;34m\u001b[0m\u001b[0m\n\u001b[0;32m--> 972\u001b[0;31m         \u001b[0;32mreturn\u001b[0m \u001b[0mplot_backend\u001b[0m\u001b[0;34m.\u001b[0m\u001b[0mplot\u001b[0m\u001b[0;34m(\u001b[0m\u001b[0mdata\u001b[0m\u001b[0;34m,\u001b[0m \u001b[0mkind\u001b[0m\u001b[0;34m=\u001b[0m\u001b[0mkind\u001b[0m\u001b[0;34m,\u001b[0m \u001b[0;34m**\u001b[0m\u001b[0mkwargs\u001b[0m\u001b[0;34m)\u001b[0m\u001b[0;34m\u001b[0m\u001b[0;34m\u001b[0m\u001b[0m\n\u001b[0m\u001b[1;32m    973\u001b[0m \u001b[0;34m\u001b[0m\u001b[0m\n\u001b[1;32m    974\u001b[0m     \u001b[0m__call__\u001b[0m\u001b[0;34m.\u001b[0m\u001b[0m__doc__\u001b[0m \u001b[0;34m=\u001b[0m \u001b[0m__doc__\u001b[0m\u001b[0;34m\u001b[0m\u001b[0;34m\u001b[0m\u001b[0m\n",
            "\u001b[0;32m/usr/local/lib/python3.8/dist-packages/pandas/plotting/_matplotlib/__init__.py\u001b[0m in \u001b[0;36mplot\u001b[0;34m(data, kind, **kwargs)\u001b[0m\n\u001b[1;32m     69\u001b[0m             \u001b[0mkwargs\u001b[0m\u001b[0;34m[\u001b[0m\u001b[0;34m\"ax\"\u001b[0m\u001b[0;34m]\u001b[0m \u001b[0;34m=\u001b[0m \u001b[0mgetattr\u001b[0m\u001b[0;34m(\u001b[0m\u001b[0max\u001b[0m\u001b[0;34m,\u001b[0m \u001b[0;34m\"left_ax\"\u001b[0m\u001b[0;34m,\u001b[0m \u001b[0max\u001b[0m\u001b[0;34m)\u001b[0m\u001b[0;34m\u001b[0m\u001b[0;34m\u001b[0m\u001b[0m\n\u001b[1;32m     70\u001b[0m     \u001b[0mplot_obj\u001b[0m \u001b[0;34m=\u001b[0m \u001b[0mPLOT_CLASSES\u001b[0m\u001b[0;34m[\u001b[0m\u001b[0mkind\u001b[0m\u001b[0;34m]\u001b[0m\u001b[0;34m(\u001b[0m\u001b[0mdata\u001b[0m\u001b[0;34m,\u001b[0m \u001b[0;34m**\u001b[0m\u001b[0mkwargs\u001b[0m\u001b[0;34m)\u001b[0m\u001b[0;34m\u001b[0m\u001b[0;34m\u001b[0m\u001b[0m\n\u001b[0;32m---> 71\u001b[0;31m     \u001b[0mplot_obj\u001b[0m\u001b[0;34m.\u001b[0m\u001b[0mgenerate\u001b[0m\u001b[0;34m(\u001b[0m\u001b[0;34m)\u001b[0m\u001b[0;34m\u001b[0m\u001b[0;34m\u001b[0m\u001b[0m\n\u001b[0m\u001b[1;32m     72\u001b[0m     \u001b[0mplot_obj\u001b[0m\u001b[0;34m.\u001b[0m\u001b[0mdraw\u001b[0m\u001b[0;34m(\u001b[0m\u001b[0;34m)\u001b[0m\u001b[0;34m\u001b[0m\u001b[0;34m\u001b[0m\u001b[0m\n\u001b[1;32m     73\u001b[0m     \u001b[0;32mreturn\u001b[0m \u001b[0mplot_obj\u001b[0m\u001b[0;34m.\u001b[0m\u001b[0mresult\u001b[0m\u001b[0;34m\u001b[0m\u001b[0;34m\u001b[0m\u001b[0m\n",
            "\u001b[0;32m/usr/local/lib/python3.8/dist-packages/pandas/plotting/_matplotlib/core.py\u001b[0m in \u001b[0;36mgenerate\u001b[0;34m(self)\u001b[0m\n\u001b[1;32m    284\u001b[0m     \u001b[0;32mdef\u001b[0m \u001b[0mgenerate\u001b[0m\u001b[0;34m(\u001b[0m\u001b[0mself\u001b[0m\u001b[0;34m)\u001b[0m\u001b[0;34m:\u001b[0m\u001b[0;34m\u001b[0m\u001b[0;34m\u001b[0m\u001b[0m\n\u001b[1;32m    285\u001b[0m         \u001b[0mself\u001b[0m\u001b[0;34m.\u001b[0m\u001b[0m_args_adjust\u001b[0m\u001b[0;34m(\u001b[0m\u001b[0;34m)\u001b[0m\u001b[0;34m\u001b[0m\u001b[0;34m\u001b[0m\u001b[0m\n\u001b[0;32m--> 286\u001b[0;31m         \u001b[0mself\u001b[0m\u001b[0;34m.\u001b[0m\u001b[0m_compute_plot_data\u001b[0m\u001b[0;34m(\u001b[0m\u001b[0;34m)\u001b[0m\u001b[0;34m\u001b[0m\u001b[0;34m\u001b[0m\u001b[0m\n\u001b[0m\u001b[1;32m    287\u001b[0m         \u001b[0mself\u001b[0m\u001b[0;34m.\u001b[0m\u001b[0m_setup_subplots\u001b[0m\u001b[0;34m(\u001b[0m\u001b[0;34m)\u001b[0m\u001b[0;34m\u001b[0m\u001b[0;34m\u001b[0m\u001b[0m\n\u001b[1;32m    288\u001b[0m         \u001b[0mself\u001b[0m\u001b[0;34m.\u001b[0m\u001b[0m_make_plot\u001b[0m\u001b[0;34m(\u001b[0m\u001b[0;34m)\u001b[0m\u001b[0;34m\u001b[0m\u001b[0;34m\u001b[0m\u001b[0m\n",
            "\u001b[0;32m/usr/local/lib/python3.8/dist-packages/pandas/plotting/_matplotlib/core.py\u001b[0m in \u001b[0;36m_compute_plot_data\u001b[0;34m(self)\u001b[0m\n\u001b[1;32m    451\u001b[0m         \u001b[0;31m# no non-numeric frames or series allowed\u001b[0m\u001b[0;34m\u001b[0m\u001b[0;34m\u001b[0m\u001b[0;34m\u001b[0m\u001b[0m\n\u001b[1;32m    452\u001b[0m         \u001b[0;32mif\u001b[0m \u001b[0mis_empty\u001b[0m\u001b[0;34m:\u001b[0m\u001b[0;34m\u001b[0m\u001b[0;34m\u001b[0m\u001b[0m\n\u001b[0;32m--> 453\u001b[0;31m             \u001b[0;32mraise\u001b[0m \u001b[0mTypeError\u001b[0m\u001b[0;34m(\u001b[0m\u001b[0;34m\"no numeric data to plot\"\u001b[0m\u001b[0;34m)\u001b[0m\u001b[0;34m\u001b[0m\u001b[0;34m\u001b[0m\u001b[0m\n\u001b[0m\u001b[1;32m    454\u001b[0m \u001b[0;34m\u001b[0m\u001b[0m\n\u001b[1;32m    455\u001b[0m         \u001b[0mself\u001b[0m\u001b[0;34m.\u001b[0m\u001b[0mdata\u001b[0m \u001b[0;34m=\u001b[0m \u001b[0mnumeric_data\u001b[0m\u001b[0;34m.\u001b[0m\u001b[0mapply\u001b[0m\u001b[0;34m(\u001b[0m\u001b[0mself\u001b[0m\u001b[0;34m.\u001b[0m\u001b[0m_convert_to_ndarray\u001b[0m\u001b[0;34m)\u001b[0m\u001b[0;34m\u001b[0m\u001b[0;34m\u001b[0m\u001b[0m\n",
            "\u001b[0;31mTypeError\u001b[0m: no numeric data to plot"
          ]
        }
      ]
    },
    {
      "cell_type": "code",
      "source": [
        "y_pred = model.predict(X_test)\n",
        "y_pred = (y_pred >= 0.5)"
      ],
      "metadata": {
        "colab": {
          "base_uri": "https://localhost:8080/"
        },
        "id": "WFE2D-zQ072C",
        "outputId": "f0eb4256-e9c0-4f2d-c4ab-5c3afe21d835"
      },
      "execution_count": 71,
      "outputs": [
        {
          "output_type": "stream",
          "name": "stdout",
          "text": [
            "183/183 [==============================] - 0s 1ms/step\n"
          ]
        }
      ]
    },
    {
      "cell_type": "code",
      "source": [
        "print(classification_report(y_test,y_pred))"
      ],
      "metadata": {
        "colab": {
          "base_uri": "https://localhost:8080/"
        },
        "id": "ccjU8ihw1BgM",
        "outputId": "c94fa5b4-4ccd-46c8-d604-3c047f409b26"
      },
      "execution_count": 72,
      "outputs": [
        {
          "output_type": "stream",
          "name": "stdout",
          "text": [
            "              precision    recall  f1-score   support\n",
            "\n",
            "           0       0.54      0.59      0.57      2904\n",
            "           1       0.55      0.50      0.53      2932\n",
            "\n",
            "    accuracy                           0.55      5836\n",
            "   macro avg       0.55      0.55      0.55      5836\n",
            "weighted avg       0.55      0.55      0.55      5836\n",
            "\n"
          ]
        }
      ]
    },
    {
      "cell_type": "code",
      "source": [
        "print(confusion_matrix(y_test,y_pred))\n",
        "print(classification_report(y_test,y_pred))\n",
        "print(roc_auc_score(y_test,y_pred))\n",
        "print(log_loss(y_test,y_pred))"
      ],
      "metadata": {
        "colab": {
          "base_uri": "https://localhost:8080/"
        },
        "id": "w5a3LS831TCO",
        "outputId": "8b77cc3c-77e5-4951-e433-d10f7930562b"
      },
      "execution_count": 73,
      "outputs": [
        {
          "output_type": "stream",
          "name": "stdout",
          "text": [
            "[[1726 1178]\n",
            " [1468 1464]]\n",
            "              precision    recall  f1-score   support\n",
            "\n",
            "           0       0.54      0.59      0.57      2904\n",
            "           1       0.55      0.50      0.53      2932\n",
            "\n",
            "    accuracy                           0.55      5836\n",
            "   macro avg       0.55      0.55      0.55      5836\n",
            "weighted avg       0.55      0.55      0.55      5836\n",
            "\n",
            "0.5468352444198904\n",
            "15.659791683808507\n"
          ]
        }
      ]
    },
    {
      "cell_type": "markdown",
      "source": [
        "ANother try"
      ],
      "metadata": {
        "id": "Hn0uaF96fR0e"
      }
    },
    {
      "cell_type": "code",
      "source": [
        "model = Sequential()\n",
        "model.add(Dense(units=30,activation='relu'))\n",
        "model.add(Dense(units=15,activation='relu'))\n",
        "model.add(Dense(units=1,activation='sigmoid'))\n",
        "model.compile(loss='binary_crossentropy', optimizer='adam')"
      ],
      "metadata": {
        "id": "k272huVVfVcp"
      },
      "execution_count": 111,
      "outputs": []
    },
    {
      "cell_type": "code",
      "source": [
        "early_stop = EarlyStopping(monitor='val_loss', mode='min', verbose=1, patience=5)"
      ],
      "metadata": {
        "id": "nhylyLLjfW_w"
      },
      "execution_count": 112,
      "outputs": []
    },
    {
      "cell_type": "code",
      "source": [
        "model.fit(x=X_train, \n",
        "          y=y_train, \n",
        "          batch_size=128,\n",
        "          epochs=100,\n",
        "          validation_data=(X_test, y_test), verbose=1,\n",
        "          callbacks=[early_stop]\n",
        "          )"
      ],
      "metadata": {
        "colab": {
          "base_uri": "https://localhost:8080/"
        },
        "id": "a1E2D6CAfb8h",
        "outputId": "f0edaaee-6104-496a-b547-ccec3b09c970"
      },
      "execution_count": 113,
      "outputs": [
        {
          "output_type": "stream",
          "name": "stdout",
          "text": [
            "Epoch 1/100\n",
            "107/107 [==============================] - 2s 9ms/step - loss: 0.6903 - val_loss: 0.6889\n",
            "Epoch 2/100\n",
            "107/107 [==============================] - 1s 6ms/step - loss: 0.6861 - val_loss: 0.6875\n",
            "Epoch 3/100\n",
            "107/107 [==============================] - 1s 7ms/step - loss: 0.6858 - val_loss: 0.6870\n",
            "Epoch 4/100\n",
            "107/107 [==============================] - 1s 6ms/step - loss: 0.6846 - val_loss: 0.6891\n",
            "Epoch 5/100\n",
            "107/107 [==============================] - 1s 6ms/step - loss: 0.6850 - val_loss: 0.6877\n",
            "Epoch 6/100\n",
            "107/107 [==============================] - 1s 6ms/step - loss: 0.6842 - val_loss: 0.6866\n",
            "Epoch 7/100\n",
            "107/107 [==============================] - 1s 5ms/step - loss: 0.6839 - val_loss: 0.6864\n",
            "Epoch 8/100\n",
            "107/107 [==============================] - 1s 5ms/step - loss: 0.6845 - val_loss: 0.6865\n",
            "Epoch 9/100\n",
            "107/107 [==============================] - 1s 6ms/step - loss: 0.6835 - val_loss: 0.6876\n",
            "Epoch 10/100\n",
            "107/107 [==============================] - 1s 6ms/step - loss: 0.6837 - val_loss: 0.6865\n",
            "Epoch 11/100\n",
            "107/107 [==============================] - 1s 7ms/step - loss: 0.6835 - val_loss: 0.6877\n",
            "Epoch 12/100\n",
            "107/107 [==============================] - 1s 5ms/step - loss: 0.6839 - val_loss: 0.6870\n",
            "Epoch 12: early stopping\n"
          ]
        },
        {
          "output_type": "execute_result",
          "data": {
            "text/plain": [
              "<keras.callbacks.History at 0x7efd6a77a970>"
            ]
          },
          "metadata": {},
          "execution_count": 113
        }
      ]
    },
    {
      "cell_type": "code",
      "source": [
        "y_pred = model.predict(X_test)\n",
        "y_pred = (y_pred >= 0.5)"
      ],
      "metadata": {
        "colab": {
          "base_uri": "https://localhost:8080/"
        },
        "id": "9VDAz7gtfoZJ",
        "outputId": "408a0da0-d521-4290-dbdd-19f388251db2"
      },
      "execution_count": 114,
      "outputs": [
        {
          "output_type": "stream",
          "name": "stdout",
          "text": [
            "183/183 [==============================] - 0s 1ms/step\n"
          ]
        }
      ]
    },
    {
      "cell_type": "code",
      "source": [
        "print(confusion_matrix(y_test,y_pred))\n",
        "print(classification_report(y_test,y_pred))\n",
        "print(roc_auc_score(y_test,y_pred))\n",
        "print(log_loss(y_test,y_pred))"
      ],
      "metadata": {
        "colab": {
          "base_uri": "https://localhost:8080/"
        },
        "id": "7gikm1F-fxWO",
        "outputId": "ffa63591-6211-4b08-a782-a06e1fdf3eb2"
      },
      "execution_count": 115,
      "outputs": [
        {
          "output_type": "stream",
          "name": "stdout",
          "text": [
            "[[1831 1073]\n",
            " [1602 1330]]\n",
            "              precision    recall  f1-score   support\n",
            "\n",
            "           0       0.53      0.63      0.58      2904\n",
            "           1       0.55      0.45      0.50      2932\n",
            "\n",
            "    accuracy                           0.54      5836\n",
            "   macro avg       0.54      0.54      0.54      5836\n",
            "weighted avg       0.54      0.54      0.54      5836\n",
            "\n",
            "0.5420624607729284\n",
            "15.83140589863411\n"
          ]
        }
      ]
    },
    {
      "cell_type": "markdown",
      "source": [
        "Trying again editing nodes"
      ],
      "metadata": {
        "id": "cqfmIz_Eurox"
      }
    },
    {
      "cell_type": "code",
      "source": [
        "model = Sequential()\n",
        "\n",
        "model.add(Dense(units=100,activation='relu'))\n",
        "model.add(Dropout(0.5))\n",
        "\n",
        "model.add(Dense(units=75,activation='relu'))\n",
        "model.add(Dropout(0.5))\n",
        "\n",
        "model.add(Dense(units=50,activation='relu'))\n",
        "model.add(Dropout(0.5))\n",
        "\n",
        "model.add(Dense(units=25,activation='relu'))\n",
        "model.add(Dropout(0.5))\n",
        "\n",
        "model.add(Dense(units=1,activation='sigmoid'))\n",
        "model.compile(loss='binary_crossentropy', optimizer='adam')"
      ],
      "metadata": {
        "id": "ehkT6HgIuvSe"
      },
      "execution_count": 186,
      "outputs": []
    },
    {
      "cell_type": "code",
      "source": [
        "model.fit(x=X_train, \n",
        "          y=y_train, \n",
        "          batch_size=64,\n",
        "          epochs=100,\n",
        "          validation_data=(X_test, y_test), verbose=1,\n",
        "          callbacks=[early_stop]\n",
        "          )"
      ],
      "metadata": {
        "colab": {
          "base_uri": "https://localhost:8080/"
        },
        "id": "XV9JdSoGvMZL",
        "outputId": "7fb7b331-2ba6-46a4-e22e-fa1e30c93907"
      },
      "execution_count": 187,
      "outputs": [
        {
          "output_type": "stream",
          "name": "stdout",
          "text": [
            "Epoch 1/100\n",
            "213/213 [==============================] - 2s 4ms/step - loss: 0.6969 - val_loss: 0.6928\n",
            "Epoch 2/100\n",
            "213/213 [==============================] - 1s 4ms/step - loss: 0.6933 - val_loss: 0.6930\n",
            "Epoch 3/100\n",
            "213/213 [==============================] - 1s 4ms/step - loss: 0.6922 - val_loss: 0.6918\n",
            "Epoch 4/100\n",
            "213/213 [==============================] - 1s 4ms/step - loss: 0.6920 - val_loss: 0.6912\n",
            "Epoch 5/100\n",
            "213/213 [==============================] - 1s 3ms/step - loss: 0.6915 - val_loss: 0.6912\n",
            "Epoch 6/100\n",
            "213/213 [==============================] - 1s 3ms/step - loss: 0.6900 - val_loss: 0.6890\n",
            "Epoch 7/100\n",
            "213/213 [==============================] - 1s 4ms/step - loss: 0.6894 - val_loss: 0.6893\n",
            "Epoch 8/100\n",
            "213/213 [==============================] - 1s 3ms/step - loss: 0.6881 - val_loss: 0.6876\n",
            "Epoch 9/100\n",
            "213/213 [==============================] - 1s 4ms/step - loss: 0.6899 - val_loss: 0.6893\n",
            "Epoch 10/100\n",
            "213/213 [==============================] - 1s 4ms/step - loss: 0.6886 - val_loss: 0.6884\n",
            "Epoch 11/100\n",
            "213/213 [==============================] - 1s 4ms/step - loss: 0.6889 - val_loss: 0.6882\n",
            "Epoch 12/100\n",
            "213/213 [==============================] - 1s 4ms/step - loss: 0.6871 - val_loss: 0.6883\n",
            "Epoch 13/100\n",
            "213/213 [==============================] - 1s 3ms/step - loss: 0.6882 - val_loss: 0.6885\n",
            "Epoch 13: early stopping\n"
          ]
        },
        {
          "output_type": "execute_result",
          "data": {
            "text/plain": [
              "<keras.callbacks.History at 0x7efd57e76880>"
            ]
          },
          "metadata": {},
          "execution_count": 187
        }
      ]
    },
    {
      "cell_type": "code",
      "source": [
        "y_pred = model.predict(X_test)\n",
        "y_pred = (y_pred >= 0.5)"
      ],
      "metadata": {
        "colab": {
          "base_uri": "https://localhost:8080/"
        },
        "id": "uF2K9q5swYDy",
        "outputId": "78e481dd-44c6-42d8-cc52-1e06e3ae64a3"
      },
      "execution_count": 188,
      "outputs": [
        {
          "output_type": "stream",
          "name": "stdout",
          "text": [
            "183/183 [==============================] - 0s 1ms/step\n"
          ]
        }
      ]
    },
    {
      "cell_type": "code",
      "source": [
        "print(confusion_matrix(y_test,y_pred))\n",
        "print(classification_report(y_test,y_pred))\n",
        "print(roc_auc_score(y_test,y_pred))\n",
        "print(log_loss(y_test,y_pred))"
      ],
      "metadata": {
        "colab": {
          "base_uri": "https://localhost:8080/"
        },
        "id": "gI6uE6yhvZdT",
        "outputId": "1ef779e7-1249-4e7d-dccc-cfc2591908d3"
      },
      "execution_count": 189,
      "outputs": [
        {
          "output_type": "stream",
          "name": "stdout",
          "text": [
            "[[1771 1133]\n",
            " [1537 1395]]\n",
            "              precision    recall  f1-score   support\n",
            "\n",
            "           0       0.54      0.61      0.57      2904\n",
            "           1       0.55      0.48      0.51      2932\n",
            "\n",
            "    accuracy                           0.54      5836\n",
            "   macro avg       0.54      0.54      0.54      5836\n",
            "weighted avg       0.54      0.54      0.54      5836\n",
            "\n",
            "0.5428164661623052\n",
            "15.801822981202866\n"
          ]
        }
      ]
    },
    {
      "cell_type": "markdown",
      "source": [
        "Visualizations"
      ],
      "metadata": {
        "id": "dUiNzJbQ2ikO"
      }
    },
    {
      "cell_type": "code",
      "source": [
        "prep"
      ],
      "metadata": {
        "colab": {
          "base_uri": "https://localhost:8080/",
          "height": 488
        },
        "id": "rbbKuatF2s7c",
        "outputId": "47ad2ef9-f470-4501-a0ee-a2c7b42552c3"
      },
      "execution_count": 80,
      "outputs": [
        {
          "output_type": "execute_result",
          "data": {
            "text/plain": [
              "       xGoal%Run  Corsi%Run  Fen%Run  xGoalsForRun  FSVAdjustedxGoalRun  \\\n",
              "0        0.50726    0.53117  0.53826        2.5045               2.5295   \n",
              "1        0.45481    0.45460  0.44968        2.5657               2.3447   \n",
              "2        0.48884    0.51236  0.51644        2.4003               2.4918   \n",
              "3        0.54158    0.49099  0.49263        3.1641               2.9474   \n",
              "4        0.43599    0.43434  0.44148        2.2016               2.2778   \n",
              "...          ...        ...      ...           ...                  ...   \n",
              "19447    0.48156    0.52473  0.53452        2.5851               2.5883   \n",
              "19448    0.35018    0.41808  0.39823        2.1021               1.9214   \n",
              "19449    0.50208    0.47386  0.47879        3.2323               3.2564   \n",
              "19450    0.47233    0.49883  0.49072        2.8518               2.6742   \n",
              "19451    0.42794    0.45913  0.47071        2.9108               2.8669   \n",
              "\n",
              "       SogRun  GoalsForRun  SavedShotsRun  SavedUnblockedShotsRun  \\\n",
              "0        29.8          3.0           26.8                    38.7   \n",
              "1        29.5          2.8           26.7                    38.9   \n",
              "2        28.1          3.2           24.9                    35.9   \n",
              "3        30.0          3.0           27.0                    40.2   \n",
              "4        25.7          3.5           22.2                    31.8   \n",
              "...       ...          ...            ...                     ...   \n",
              "19447    32.4          2.8           29.6                    42.2   \n",
              "19448    24.2          2.1           22.1                    33.6   \n",
              "19449    29.0          3.6           25.4                    38.7   \n",
              "19450    30.1          2.4           27.7                    39.4   \n",
              "19451    32.5          2.1           30.4                    41.3   \n",
              "\n",
              "       GoalsAgainstRun  ...       O1       O2       O3      O4      O5    O6  \\\n",
              "0                  2.7  ...  0.45481  0.45460  0.44968  2.5657  2.3447  29.5   \n",
              "1                  3.3  ...  0.50726  0.53117  0.53826  2.5045  2.5295  29.8   \n",
              "2                  1.5  ...  0.54158  0.49099  0.49263  3.1641  2.9474  30.0   \n",
              "3                  2.6  ...  0.48884  0.51236  0.51644  2.4003  2.4918  28.1   \n",
              "4                  2.2  ...  0.54332  0.52716  0.53018  2.9382  2.7642  30.7   \n",
              "...                ...  ...      ...      ...      ...     ...     ...   ...   \n",
              "19447              3.5  ...  0.45576  0.49857  0.49809  2.6553  2.5512  32.1   \n",
              "19448              4.2  ...  0.55107  0.54011  0.54216  3.5756  3.6153  36.7   \n",
              "19449              3.9  ...  0.60106  0.57818  0.56233  3.4950  3.3067  31.7   \n",
              "19450              3.2  ...  0.38806  0.43492  0.42106  2.6638  2.6360  28.7   \n",
              "19451              3.7  ...  0.55188  0.53635  0.53068  2.2902  2.2188  27.0   \n",
              "\n",
              "        O7    O8    O9  O10  \n",
              "0      2.8  26.7  38.9  3.3  \n",
              "1      3.0  26.8  38.7  2.7  \n",
              "2      3.0  27.0  40.2  2.6  \n",
              "3      3.2  24.9  35.9  1.5  \n",
              "4      2.8  27.9  39.4  3.2  \n",
              "...    ...   ...   ...  ...  \n",
              "19447  2.1  30.0  43.2  2.9  \n",
              "19448  4.3  32.4  44.9  3.9  \n",
              "19449  2.8  28.9  44.9  2.1  \n",
              "19450  2.2  26.5  37.2  3.8  \n",
              "19451  2.2  24.8  34.1  2.3  \n",
              "\n",
              "[19452 rows x 21 columns]"
            ],
            "text/html": [
              "\n",
              "  <div id=\"df-e003ab8b-bcaa-453b-a1ea-8dec4326d752\">\n",
              "    <div class=\"colab-df-container\">\n",
              "      <div>\n",
              "<style scoped>\n",
              "    .dataframe tbody tr th:only-of-type {\n",
              "        vertical-align: middle;\n",
              "    }\n",
              "\n",
              "    .dataframe tbody tr th {\n",
              "        vertical-align: top;\n",
              "    }\n",
              "\n",
              "    .dataframe thead th {\n",
              "        text-align: right;\n",
              "    }\n",
              "</style>\n",
              "<table border=\"1\" class=\"dataframe\">\n",
              "  <thead>\n",
              "    <tr style=\"text-align: right;\">\n",
              "      <th></th>\n",
              "      <th>xGoal%Run</th>\n",
              "      <th>Corsi%Run</th>\n",
              "      <th>Fen%Run</th>\n",
              "      <th>xGoalsForRun</th>\n",
              "      <th>FSVAdjustedxGoalRun</th>\n",
              "      <th>SogRun</th>\n",
              "      <th>GoalsForRun</th>\n",
              "      <th>SavedShotsRun</th>\n",
              "      <th>SavedUnblockedShotsRun</th>\n",
              "      <th>GoalsAgainstRun</th>\n",
              "      <th>...</th>\n",
              "      <th>O1</th>\n",
              "      <th>O2</th>\n",
              "      <th>O3</th>\n",
              "      <th>O4</th>\n",
              "      <th>O5</th>\n",
              "      <th>O6</th>\n",
              "      <th>O7</th>\n",
              "      <th>O8</th>\n",
              "      <th>O9</th>\n",
              "      <th>O10</th>\n",
              "    </tr>\n",
              "  </thead>\n",
              "  <tbody>\n",
              "    <tr>\n",
              "      <th>0</th>\n",
              "      <td>0.50726</td>\n",
              "      <td>0.53117</td>\n",
              "      <td>0.53826</td>\n",
              "      <td>2.5045</td>\n",
              "      <td>2.5295</td>\n",
              "      <td>29.8</td>\n",
              "      <td>3.0</td>\n",
              "      <td>26.8</td>\n",
              "      <td>38.7</td>\n",
              "      <td>2.7</td>\n",
              "      <td>...</td>\n",
              "      <td>0.45481</td>\n",
              "      <td>0.45460</td>\n",
              "      <td>0.44968</td>\n",
              "      <td>2.5657</td>\n",
              "      <td>2.3447</td>\n",
              "      <td>29.5</td>\n",
              "      <td>2.8</td>\n",
              "      <td>26.7</td>\n",
              "      <td>38.9</td>\n",
              "      <td>3.3</td>\n",
              "    </tr>\n",
              "    <tr>\n",
              "      <th>1</th>\n",
              "      <td>0.45481</td>\n",
              "      <td>0.45460</td>\n",
              "      <td>0.44968</td>\n",
              "      <td>2.5657</td>\n",
              "      <td>2.3447</td>\n",
              "      <td>29.5</td>\n",
              "      <td>2.8</td>\n",
              "      <td>26.7</td>\n",
              "      <td>38.9</td>\n",
              "      <td>3.3</td>\n",
              "      <td>...</td>\n",
              "      <td>0.50726</td>\n",
              "      <td>0.53117</td>\n",
              "      <td>0.53826</td>\n",
              "      <td>2.5045</td>\n",
              "      <td>2.5295</td>\n",
              "      <td>29.8</td>\n",
              "      <td>3.0</td>\n",
              "      <td>26.8</td>\n",
              "      <td>38.7</td>\n",
              "      <td>2.7</td>\n",
              "    </tr>\n",
              "    <tr>\n",
              "      <th>2</th>\n",
              "      <td>0.48884</td>\n",
              "      <td>0.51236</td>\n",
              "      <td>0.51644</td>\n",
              "      <td>2.4003</td>\n",
              "      <td>2.4918</td>\n",
              "      <td>28.1</td>\n",
              "      <td>3.2</td>\n",
              "      <td>24.9</td>\n",
              "      <td>35.9</td>\n",
              "      <td>1.5</td>\n",
              "      <td>...</td>\n",
              "      <td>0.54158</td>\n",
              "      <td>0.49099</td>\n",
              "      <td>0.49263</td>\n",
              "      <td>3.1641</td>\n",
              "      <td>2.9474</td>\n",
              "      <td>30.0</td>\n",
              "      <td>3.0</td>\n",
              "      <td>27.0</td>\n",
              "      <td>40.2</td>\n",
              "      <td>2.6</td>\n",
              "    </tr>\n",
              "    <tr>\n",
              "      <th>3</th>\n",
              "      <td>0.54158</td>\n",
              "      <td>0.49099</td>\n",
              "      <td>0.49263</td>\n",
              "      <td>3.1641</td>\n",
              "      <td>2.9474</td>\n",
              "      <td>30.0</td>\n",
              "      <td>3.0</td>\n",
              "      <td>27.0</td>\n",
              "      <td>40.2</td>\n",
              "      <td>2.6</td>\n",
              "      <td>...</td>\n",
              "      <td>0.48884</td>\n",
              "      <td>0.51236</td>\n",
              "      <td>0.51644</td>\n",
              "      <td>2.4003</td>\n",
              "      <td>2.4918</td>\n",
              "      <td>28.1</td>\n",
              "      <td>3.2</td>\n",
              "      <td>24.9</td>\n",
              "      <td>35.9</td>\n",
              "      <td>1.5</td>\n",
              "    </tr>\n",
              "    <tr>\n",
              "      <th>4</th>\n",
              "      <td>0.43599</td>\n",
              "      <td>0.43434</td>\n",
              "      <td>0.44148</td>\n",
              "      <td>2.2016</td>\n",
              "      <td>2.2778</td>\n",
              "      <td>25.7</td>\n",
              "      <td>3.5</td>\n",
              "      <td>22.2</td>\n",
              "      <td>31.8</td>\n",
              "      <td>2.2</td>\n",
              "      <td>...</td>\n",
              "      <td>0.54332</td>\n",
              "      <td>0.52716</td>\n",
              "      <td>0.53018</td>\n",
              "      <td>2.9382</td>\n",
              "      <td>2.7642</td>\n",
              "      <td>30.7</td>\n",
              "      <td>2.8</td>\n",
              "      <td>27.9</td>\n",
              "      <td>39.4</td>\n",
              "      <td>3.2</td>\n",
              "    </tr>\n",
              "    <tr>\n",
              "      <th>...</th>\n",
              "      <td>...</td>\n",
              "      <td>...</td>\n",
              "      <td>...</td>\n",
              "      <td>...</td>\n",
              "      <td>...</td>\n",
              "      <td>...</td>\n",
              "      <td>...</td>\n",
              "      <td>...</td>\n",
              "      <td>...</td>\n",
              "      <td>...</td>\n",
              "      <td>...</td>\n",
              "      <td>...</td>\n",
              "      <td>...</td>\n",
              "      <td>...</td>\n",
              "      <td>...</td>\n",
              "      <td>...</td>\n",
              "      <td>...</td>\n",
              "      <td>...</td>\n",
              "      <td>...</td>\n",
              "      <td>...</td>\n",
              "      <td>...</td>\n",
              "    </tr>\n",
              "    <tr>\n",
              "      <th>19447</th>\n",
              "      <td>0.48156</td>\n",
              "      <td>0.52473</td>\n",
              "      <td>0.53452</td>\n",
              "      <td>2.5851</td>\n",
              "      <td>2.5883</td>\n",
              "      <td>32.4</td>\n",
              "      <td>2.8</td>\n",
              "      <td>29.6</td>\n",
              "      <td>42.2</td>\n",
              "      <td>3.5</td>\n",
              "      <td>...</td>\n",
              "      <td>0.45576</td>\n",
              "      <td>0.49857</td>\n",
              "      <td>0.49809</td>\n",
              "      <td>2.6553</td>\n",
              "      <td>2.5512</td>\n",
              "      <td>32.1</td>\n",
              "      <td>2.1</td>\n",
              "      <td>30.0</td>\n",
              "      <td>43.2</td>\n",
              "      <td>2.9</td>\n",
              "    </tr>\n",
              "    <tr>\n",
              "      <th>19448</th>\n",
              "      <td>0.35018</td>\n",
              "      <td>0.41808</td>\n",
              "      <td>0.39823</td>\n",
              "      <td>2.1021</td>\n",
              "      <td>1.9214</td>\n",
              "      <td>24.2</td>\n",
              "      <td>2.1</td>\n",
              "      <td>22.1</td>\n",
              "      <td>33.6</td>\n",
              "      <td>4.2</td>\n",
              "      <td>...</td>\n",
              "      <td>0.55107</td>\n",
              "      <td>0.54011</td>\n",
              "      <td>0.54216</td>\n",
              "      <td>3.5756</td>\n",
              "      <td>3.6153</td>\n",
              "      <td>36.7</td>\n",
              "      <td>4.3</td>\n",
              "      <td>32.4</td>\n",
              "      <td>44.9</td>\n",
              "      <td>3.9</td>\n",
              "    </tr>\n",
              "    <tr>\n",
              "      <th>19449</th>\n",
              "      <td>0.50208</td>\n",
              "      <td>0.47386</td>\n",
              "      <td>0.47879</td>\n",
              "      <td>3.2323</td>\n",
              "      <td>3.2564</td>\n",
              "      <td>29.0</td>\n",
              "      <td>3.6</td>\n",
              "      <td>25.4</td>\n",
              "      <td>38.7</td>\n",
              "      <td>3.9</td>\n",
              "      <td>...</td>\n",
              "      <td>0.60106</td>\n",
              "      <td>0.57818</td>\n",
              "      <td>0.56233</td>\n",
              "      <td>3.4950</td>\n",
              "      <td>3.3067</td>\n",
              "      <td>31.7</td>\n",
              "      <td>2.8</td>\n",
              "      <td>28.9</td>\n",
              "      <td>44.9</td>\n",
              "      <td>2.1</td>\n",
              "    </tr>\n",
              "    <tr>\n",
              "      <th>19450</th>\n",
              "      <td>0.47233</td>\n",
              "      <td>0.49883</td>\n",
              "      <td>0.49072</td>\n",
              "      <td>2.8518</td>\n",
              "      <td>2.6742</td>\n",
              "      <td>30.1</td>\n",
              "      <td>2.4</td>\n",
              "      <td>27.7</td>\n",
              "      <td>39.4</td>\n",
              "      <td>3.2</td>\n",
              "      <td>...</td>\n",
              "      <td>0.38806</td>\n",
              "      <td>0.43492</td>\n",
              "      <td>0.42106</td>\n",
              "      <td>2.6638</td>\n",
              "      <td>2.6360</td>\n",
              "      <td>28.7</td>\n",
              "      <td>2.2</td>\n",
              "      <td>26.5</td>\n",
              "      <td>37.2</td>\n",
              "      <td>3.8</td>\n",
              "    </tr>\n",
              "    <tr>\n",
              "      <th>19451</th>\n",
              "      <td>0.42794</td>\n",
              "      <td>0.45913</td>\n",
              "      <td>0.47071</td>\n",
              "      <td>2.9108</td>\n",
              "      <td>2.8669</td>\n",
              "      <td>32.5</td>\n",
              "      <td>2.1</td>\n",
              "      <td>30.4</td>\n",
              "      <td>41.3</td>\n",
              "      <td>3.7</td>\n",
              "      <td>...</td>\n",
              "      <td>0.55188</td>\n",
              "      <td>0.53635</td>\n",
              "      <td>0.53068</td>\n",
              "      <td>2.2902</td>\n",
              "      <td>2.2188</td>\n",
              "      <td>27.0</td>\n",
              "      <td>2.2</td>\n",
              "      <td>24.8</td>\n",
              "      <td>34.1</td>\n",
              "      <td>2.3</td>\n",
              "    </tr>\n",
              "  </tbody>\n",
              "</table>\n",
              "<p>19452 rows × 21 columns</p>\n",
              "</div>\n",
              "      <button class=\"colab-df-convert\" onclick=\"convertToInteractive('df-e003ab8b-bcaa-453b-a1ea-8dec4326d752')\"\n",
              "              title=\"Convert this dataframe to an interactive table.\"\n",
              "              style=\"display:none;\">\n",
              "        \n",
              "  <svg xmlns=\"http://www.w3.org/2000/svg\" height=\"24px\"viewBox=\"0 0 24 24\"\n",
              "       width=\"24px\">\n",
              "    <path d=\"M0 0h24v24H0V0z\" fill=\"none\"/>\n",
              "    <path d=\"M18.56 5.44l.94 2.06.94-2.06 2.06-.94-2.06-.94-.94-2.06-.94 2.06-2.06.94zm-11 1L8.5 8.5l.94-2.06 2.06-.94-2.06-.94L8.5 2.5l-.94 2.06-2.06.94zm10 10l.94 2.06.94-2.06 2.06-.94-2.06-.94-.94-2.06-.94 2.06-2.06.94z\"/><path d=\"M17.41 7.96l-1.37-1.37c-.4-.4-.92-.59-1.43-.59-.52 0-1.04.2-1.43.59L10.3 9.45l-7.72 7.72c-.78.78-.78 2.05 0 2.83L4 21.41c.39.39.9.59 1.41.59.51 0 1.02-.2 1.41-.59l7.78-7.78 2.81-2.81c.8-.78.8-2.07 0-2.86zM5.41 20L4 18.59l7.72-7.72 1.47 1.35L5.41 20z\"/>\n",
              "  </svg>\n",
              "      </button>\n",
              "      \n",
              "  <style>\n",
              "    .colab-df-container {\n",
              "      display:flex;\n",
              "      flex-wrap:wrap;\n",
              "      gap: 12px;\n",
              "    }\n",
              "\n",
              "    .colab-df-convert {\n",
              "      background-color: #E8F0FE;\n",
              "      border: none;\n",
              "      border-radius: 50%;\n",
              "      cursor: pointer;\n",
              "      display: none;\n",
              "      fill: #1967D2;\n",
              "      height: 32px;\n",
              "      padding: 0 0 0 0;\n",
              "      width: 32px;\n",
              "    }\n",
              "\n",
              "    .colab-df-convert:hover {\n",
              "      background-color: #E2EBFA;\n",
              "      box-shadow: 0px 1px 2px rgba(60, 64, 67, 0.3), 0px 1px 3px 1px rgba(60, 64, 67, 0.15);\n",
              "      fill: #174EA6;\n",
              "    }\n",
              "\n",
              "    [theme=dark] .colab-df-convert {\n",
              "      background-color: #3B4455;\n",
              "      fill: #D2E3FC;\n",
              "    }\n",
              "\n",
              "    [theme=dark] .colab-df-convert:hover {\n",
              "      background-color: #434B5C;\n",
              "      box-shadow: 0px 1px 3px 1px rgba(0, 0, 0, 0.15);\n",
              "      filter: drop-shadow(0px 1px 2px rgba(0, 0, 0, 0.3));\n",
              "      fill: #FFFFFF;\n",
              "    }\n",
              "  </style>\n",
              "\n",
              "      <script>\n",
              "        const buttonEl =\n",
              "          document.querySelector('#df-e003ab8b-bcaa-453b-a1ea-8dec4326d752 button.colab-df-convert');\n",
              "        buttonEl.style.display =\n",
              "          google.colab.kernel.accessAllowed ? 'block' : 'none';\n",
              "\n",
              "        async function convertToInteractive(key) {\n",
              "          const element = document.querySelector('#df-e003ab8b-bcaa-453b-a1ea-8dec4326d752');\n",
              "          const dataTable =\n",
              "            await google.colab.kernel.invokeFunction('convertToInteractive',\n",
              "                                                     [key], {});\n",
              "          if (!dataTable) return;\n",
              "\n",
              "          const docLinkHtml = 'Like what you see? Visit the ' +\n",
              "            '<a target=\"_blank\" href=https://colab.research.google.com/notebooks/data_table.ipynb>data table notebook</a>'\n",
              "            + ' to learn more about interactive tables.';\n",
              "          element.innerHTML = '';\n",
              "          dataTable['output_type'] = 'display_data';\n",
              "          await google.colab.output.renderOutput(dataTable, element);\n",
              "          const docLink = document.createElement('div');\n",
              "          docLink.innerHTML = docLinkHtml;\n",
              "          element.appendChild(docLink);\n",
              "        }\n",
              "      </script>\n",
              "    </div>\n",
              "  </div>\n",
              "  "
            ]
          },
          "metadata": {},
          "execution_count": 80
        }
      ]
    },
    {
      "cell_type": "code",
      "source": [
        "import seaborn as sb\n",
        "sb.displot(prep, x=\"Corsi%Run\", hue=\"Win\")"
      ],
      "metadata": {
        "colab": {
          "base_uri": "https://localhost:8080/",
          "height": 386
        },
        "id": "3KptO0T82VWX",
        "outputId": "84c1e496-7c6f-425b-8de5-39f3095329d6"
      },
      "execution_count": 86,
      "outputs": [
        {
          "output_type": "execute_result",
          "data": {
            "text/plain": [
              "<seaborn.axisgrid.FacetGrid at 0x7efd6d85dd90>"
            ]
          },
          "metadata": {},
          "execution_count": 86
        },
        {
          "output_type": "display_data",
          "data": {
            "text/plain": [
              "<Figure size 402.375x360 with 1 Axes>"
            ],
            "image/png": "[encoded data removed]"
          },
          "metadata": {
            "needs_background": "light"
          }
        }
      ]
    },
    {
      "cell_type": "code",
      "source": [
        "#log\n",
        "fpr, tpr, _ = metrics.roc_curve(y_test,  model1.predict_proba(X_test)[:,1])\n",
        "auc = round(metrics.roc_auc_score(y_test, model1.predict_proba(X_test)[:,1] ), 4)\n",
        "plt.plot(fpr,tpr,label=\"Logistic Regression, AUC=\"+str(auc))\n",
        "#kNN\n",
        "fpr, tpr, _ = metrics.roc_curve(y_test, knn.predict_proba(X_test)[:,1])\n",
        "auc = round(metrics.roc_auc_score(y_test, knn.predict_proba(X_test)[:,1] ), 4)\n",
        "plt.plot(fpr,tpr,label=\"kNN, AUC=\"+str(auc))\n",
        "# Boosted Tree\n",
        "fpr, tpr, _ = metrics.roc_curve(y_test, boosted_tree.predict_proba(X_test)[:,1])\n",
        "auc = round(metrics.roc_auc_score(y_test, boosted_tree.predict_proba(X_test)[:,1] ), 4)\n",
        "plt.plot(fpr,tpr,label=\"Boosted Tree, AUC=\"+str(auc))\n",
        "# Rand\n",
        "random_roc_auc = roc_auc_score(y_test, y_proba_rf[:,1])\n",
        "auc = round(metrics.roc_auc_score(y_test,y_pred_rf), 4)\n",
        "fpr, tpr, thresholds = roc_curve(y_test, y_proba_rf[:,1])\n",
        "plt.plot(fpr,tpr,label=\"Random Forest , AUC=\"+str(auc))\n",
        "#ANN\n",
        "fpr, tpr, _ = metrics.roc_curve(y_test, model.predict(X_test))\n",
        "auc = round(metrics.roc_auc_score(y_test, model.predict(X_test)), 4)\n",
        "plt.plot(fpr,tpr,label=\"ANN , AUC=\"+str(auc))\n",
        "plt.plot([0, 1], [0, 1])\n",
        "plt.legend()"
      ],
      "metadata": {
        "id": "m0pW0pZY4y1z",
        "outputId": "90f349bf-9e61-4fb4-b104-4deb114381b3",
        "colab": {
          "base_uri": "https://localhost:8080/",
          "height": 317
        }
      },
      "execution_count": 233,
      "outputs": [
        {
          "output_type": "stream",
          "name": "stdout",
          "text": [
            "183/183 [==============================] - 0s 2ms/step\n",
            "183/183 [==============================] - 0s 1ms/step\n"
          ]
        },
        {
          "output_type": "execute_result",
          "data": {
            "text/plain": [
              "<matplotlib.legend.Legend at 0x7efd57318910>"
            ]
          },
          "metadata": {},
          "execution_count": 233
        },
        {
          "output_type": "display_data",
          "data": {
            "text/plain": [
              "<Figure size 432x288 with 1 Axes>"
            ],
            "image/png": "[encoded data removed]"
          },
          "metadata": {
            "needs_background": "light"
          }
        }
      ]
    },
    {
      "cell_type": "code",
      "source": [
        "\n",
        "fpr, tpr, _ = metrics.roc_curve(y_test,  model1.predict_proba(X_test)[:,1])\n",
        "auc = round(metrics.roc_auc_score(y_test, model1.predict_proba(X_test)[:,1] ), 4)\n",
        "plt.plot(fpr,tpr,label=\"Logistic Regression, AUC=\"+str(auc))\n",
        "#kNN\n",
        "fpr, tpr, _ = metrics.roc_curve(y_test, knn.predict_proba(X_test)[:,1])\n",
        "auc = round(metrics.roc_auc_score(y_test, knn.predict_proba(X_test)[:,1] ), 4)\n",
        "plt.plot(fpr,tpr,label=\"kNN, AUC=\"+str(auc))\n",
        "\n",
        "fpr, tpr, _ = metrics.roc_curve(y_test, boosted_tree.predict_proba(X_test)[:,1])\n",
        "auc = round(metrics.roc_auc_score(y_test, boosted_tree.predict_proba(X_test)[:,1] ), 4)\n",
        "plt.plot(fpr,tpr,label=\"Boosted Tree, AUC=\"+str(auc))\n",
        "\n",
        "random_roc_auc = roc_auc_score(y_test, random_forest.predict_proba(X_test)[:,1])\n",
        "fpr, tpr, thresholds = roc_curve(y_test, random_forest.predict_proba(X_test)[:,1])\n",
        "auc = round(metrics.roc_auc_score(y_test, random_forest.predict(X_test)), 4)\n",
        "plt.plot(fpr,tpr,label=\"Random Forest , AUC=\"+str(auc))\n",
        "\n",
        "fpr, tpr, _ = metrics.roc_curve(y_test, model.predict(X_test))\n",
        "auc = round(metrics.roc_auc_score(y_test, model.predict(X_test)), 4)\n",
        "plt.plot(fpr,tpr,label=\"ANN , AUC=\"+str(auc))\n",
        "plt.legend"
      ],
      "metadata": {
        "id": "6JtLosCZ9i-_",
        "outputId": "6df74a59-1260-46b6-88c7-c51528ca9554",
        "colab": {
          "base_uri": "https://localhost:8080/",
          "height": 317
        }
      },
      "execution_count": 205,
      "outputs": [
        {
          "output_type": "stream",
          "name": "stdout",
          "text": [
            "183/183 [==============================] - 0s 1ms/step\n",
            "183/183 [==============================] - 0s 1ms/step\n"
          ]
        },
        {
          "output_type": "execute_result",
          "data": {
            "text/plain": [
              "<function matplotlib.pyplot.legend(*args, **kwargs)>"
            ]
          },
          "metadata": {},
          "execution_count": 205
        },
        {
          "output_type": "display_data",
          "data": {
            "text/plain": [
              "<Figure size 432x288 with 1 Axes>"
            ],
            "image/png": "[encoded data removed]"
          },
          "metadata": {
            "needs_background": "light"
          }
        }
      ]
    }
  ]
}