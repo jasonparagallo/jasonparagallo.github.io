{
  "nbformat": 4,
  "nbformat_minor": 0,
  "metadata": {
    "colab": {
      "provenance": []
    },
    "kernelspec": {
      "name": "python3",
      "display_name": "Python 3"
    },
    "language_info": {
      "name": "python"
    }
  },
  "cells": [
    {
      "cell_type": "markdown",
      "source": [
        "Scrape at least 400 full reviews and ratings from Yelp for a restaurant that has mixed reviews. (10 pts.)\n"
      ],
      "metadata": {
        "id": "0wdiXZPe4_wo"
      }
    },
    {
      "cell_type": "code",
      "source": [
        "import pandas as pd\n",
        "gosmans = pd.read_csv('gosmans.csv')"
      ],
      "metadata": {
        "id": "R943E6wv5FSE"
      },
      "execution_count": 159,
      "outputs": []
    },
    {
      "cell_type": "markdown",
      "source": [
        "Clean and pre-process the data. (5 pts.)\n"
      ],
      "metadata": {
        "id": "WSKTt7P35FgF"
      }
    },
    {
      "cell_type": "code",
      "source": [
        "import nltk\n",
        "import re\n",
        "nltk.download('punkt')\n",
        "nltk.download(\"stopwords\")\n",
        "from nltk.corpus import stopwords\n",
        "nltk.download('wordnet')\n",
        "from nltk.stem import WordNetLemmatizer"
      ],
      "metadata": {
        "colab": {
          "base_uri": "https://localhost:8080/"
        },
        "id": "PTCoueuKSsdh",
        "outputId": "21cb551d-b4d4-4634-a548-8bebe94bf195"
      },
      "execution_count": 156,
      "outputs": [
        {
          "output_type": "stream",
          "name": "stderr",
          "text": [
            "[nltk_data] Downloading package punkt to /root/nltk_data...\n",
            "[nltk_data]   Package punkt is already up-to-date!\n",
            "[nltk_data] Downloading package stopwords to /root/nltk_data...\n",
            "[nltk_data]   Package stopwords is already up-to-date!\n",
            "[nltk_data] Downloading package wordnet to /root/nltk_data...\n",
            "[nltk_data]   Package wordnet is already up-to-date!\n"
          ]
        }
      ]
    },
    {
      "cell_type": "code",
      "source": [
        "gosmans['review_text'] = gosmans['review_text'].str.lower()"
      ],
      "metadata": {
        "id": "JUsGBzeiStyb"
      },
      "execution_count": 160,
      "outputs": []
    },
    {
      "cell_type": "code",
      "source": [
        "gosmans['review_text'] = gosmans['review_text'].str.split()"
      ],
      "metadata": {
        "id": "HLB0Ypj6S0lq"
      },
      "execution_count": 161,
      "outputs": []
    },
    {
      "cell_type": "code",
      "source": [
        "def punctuation(words):\n",
        "    new_words = []\n",
        "    for word in words:\n",
        "        new_word = re.sub(r'[^\\w\\s]', '', word)\n",
        "        if new_word != '':\n",
        "            new_words.append(new_word)\n",
        "    return new_words"
      ],
      "metadata": {
        "id": "uVJ_7CrgS4mL"
      },
      "execution_count": 163,
      "outputs": []
    },
    {
      "cell_type": "code",
      "source": [
        "gosmans['review_text'] = gosmans['review_text'].apply(punctuation)"
      ],
      "metadata": {
        "id": "l16sLY_7S7PF"
      },
      "execution_count": 164,
      "outputs": []
    },
    {
      "cell_type": "code",
      "source": [
        "def remove_stop(words):\n",
        "    new_words = []\n",
        "    for word in words:\n",
        "        if word not in stopwords.words('english'):\n",
        "            new_words.append(word)\n",
        "    return new_words"
      ],
      "metadata": {
        "id": "aSi7OcTNS-CD"
      },
      "execution_count": 165,
      "outputs": []
    },
    {
      "cell_type": "code",
      "source": [
        "gosmans['review_text'] = gosmans['review_text'].apply(remove_stop)"
      ],
      "metadata": {
        "id": "LPhSFycsTBNk"
      },
      "execution_count": 166,
      "outputs": []
    },
    {
      "cell_type": "code",
      "source": [
        "gosmans['review_text']"
      ],
      "metadata": {
        "colab": {
          "base_uri": "https://localhost:8080/"
        },
        "id": "v9DQennWTeA3",
        "outputId": "2c3fef2d-7fc6-4cb8-d2f4-72f3583c5f85"
      },
      "execution_count": 168,
      "outputs": [
        {
          "output_type": "execute_result",
          "data": {
            "text/plain": [
              "0      [beaten, path, prepared, trek, wont, disappoin...\n",
              "1      [funny, enough, didnt, set, go, didnt, wait, l...\n",
              "2      [ratings, dont, justice, amazing, food, absolu...\n",
              "3      [potentially, romantic, spot, dinner, everhere...\n",
              "4      [really, worth, view, youre, probably, going, ...\n",
              "                             ...                        \n",
              "409    [disappointment, havent, almost, 20, years, vi...\n",
              "410    [went, gosman, dock, twice, vacation, week, la...\n",
              "411    [going, gosmans, 25, years, always, enjoyed, v...\n",
              "412    [great, views, get, table, near, water, xa0, x...\n",
              "413    [vacation, family, booked, table, eight, adult...\n",
              "Name: review_text, Length: 414, dtype: object"
            ]
          },
          "metadata": {},
          "execution_count": 168
        }
      ]
    },
    {
      "cell_type": "markdown",
      "source": [
        "Develop a Word2Vec model using the reviews. (5 pts.)\n"
      ],
      "metadata": {
        "id": "9qqfGZ_c5N4N"
      }
    },
    {
      "cell_type": "code",
      "source": [
        "from gensim.models import Word2Vec\n",
        "\n",
        "w2v_model = Word2Vec(gosmans['review_text'], vector_size=100, window=5, min_count=1, workers=4)\n"
      ],
      "metadata": {
        "id": "GazMoAVF5TOR"
      },
      "execution_count": 169,
      "outputs": []
    },
    {
      "cell_type": "markdown",
      "source": [
        "Identify words that are most similar to 3 items on the restaurant menu using the Word2Vec model. Comment on whether the similar words make sense. (5 pts.)"
      ],
      "metadata": {
        "id": "rAXphYHt5STW"
      }
    },
    {
      "cell_type": "code",
      "source": [
        "w2v_model.wv.most_similar(positive=['shrimp'],topn=5)"
      ],
      "metadata": {
        "colab": {
          "base_uri": "https://localhost:8080/"
        },
        "id": "MlPYwGY5MGn6",
        "outputId": "7c4f1f7d-7ea8-4378-c7b4-dec158ff1ec5"
      },
      "execution_count": 175,
      "outputs": [
        {
          "output_type": "execute_result",
          "data": {
            "text/plain": [
              "[('lobster', 0.9997494220733643),\n",
              " ('didnt', 0.9997487664222717),\n",
              " ('like', 0.9997405409812927),\n",
              " ('good', 0.9997370839118958),\n",
              " ('get', 0.9997326135635376)]"
            ]
          },
          "metadata": {},
          "execution_count": 175
        }
      ]
    },
    {
      "cell_type": "code",
      "source": [
        "w2v_model.wv.most_similar(positive=['fries'],topn=5)"
      ],
      "metadata": {
        "colab": {
          "base_uri": "https://localhost:8080/"
        },
        "id": "KMZd0E-9cb52",
        "outputId": "25d6390c-793a-4596-e526-79b9b214e674"
      },
      "execution_count": 178,
      "outputs": [
        {
          "output_type": "execute_result",
          "data": {
            "text/plain": [
              "[('like', 0.9996886849403381),\n",
              " ('seafood', 0.9996672868728638),\n",
              " ('would', 0.9996650218963623),\n",
              " ('order', 0.9996598958969116),\n",
              " ('shrimp', 0.9996585845947266)]"
            ]
          },
          "metadata": {},
          "execution_count": 178
        }
      ]
    },
    {
      "cell_type": "code",
      "source": [
        "w2v_model.wv.most_similar(positive=['fish'],topn=5)"
      ],
      "metadata": {
        "colab": {
          "base_uri": "https://localhost:8080/"
        },
        "id": "ZYBpNmGdcq7z",
        "outputId": "2908c248-6cab-460c-ce31-e64ac37ea446"
      },
      "execution_count": 179,
      "outputs": [
        {
          "output_type": "execute_result",
          "data": {
            "text/plain": [
              "[('lobster', 0.9998064041137695),\n",
              " ('food', 0.9997578263282776),\n",
              " ('service', 0.9997421503067017),\n",
              " ('like', 0.999741792678833),\n",
              " ('good', 0.9997392296791077)]"
            ]
          },
          "metadata": {},
          "execution_count": 179
        }
      ]
    },
    {
      "cell_type": "markdown",
      "source": [
        "Overall most of the similar words dont make much sense, however shrimp and lobster are pretty similar as well as fish and lobster. Fries and Fish could also be similar most likely because they are often on the same plate. I do not think you could draw to much from these results."
      ],
      "metadata": {
        "id": "5o8qdziTdA7_"
      }
    }
  ]
}